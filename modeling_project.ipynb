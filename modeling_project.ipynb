{
 "cells": [
  {
   "cell_type": "code",
   "execution_count": 1,
   "metadata": {},
   "outputs": [],
   "source": [
    "import numpy as np\n",
    "import pandas as pd\n",
    "import wrangle\n",
    "import matplotlib.pyplot as plt\n",
    "from sklearn.feature_selection import RFE\n",
    "from sklearn.metrics import mean_squared_error\n",
    "from sklearn.preprocessing import MinMaxScaler\n",
    "import f_engineer"
   ]
  },
  {
   "cell_type": "code",
   "execution_count": 2,
   "metadata": {},
   "outputs": [
    {
     "name": "stdout",
     "output_type": "stream",
     "text": [
      "Let me get that for you...\n"
     ]
    }
   ],
   "source": [
    "df = wrangle.get_zillow_project_data()"
   ]
  },
  {
   "cell_type": "code",
   "execution_count": 3,
   "metadata": {},
   "outputs": [
    {
     "data": {
      "text/html": [
       "<div>\n",
       "<style scoped>\n",
       "    .dataframe tbody tr th:only-of-type {\n",
       "        vertical-align: middle;\n",
       "    }\n",
       "\n",
       "    .dataframe tbody tr th {\n",
       "        vertical-align: top;\n",
       "    }\n",
       "\n",
       "    .dataframe thead th {\n",
       "        text-align: right;\n",
       "    }\n",
       "</style>\n",
       "<table border=\"1\" class=\"dataframe\">\n",
       "  <thead>\n",
       "    <tr style=\"text-align: right;\">\n",
       "      <th></th>\n",
       "      <th>bathroomcnt</th>\n",
       "      <th>bedroomcnt</th>\n",
       "      <th>finishedsquarefeet12</th>\n",
       "      <th>fips</th>\n",
       "      <th>garagecarcnt</th>\n",
       "      <th>lotsizesquarefeet</th>\n",
       "      <th>yearbuilt</th>\n",
       "      <th>taxvaluedollarcnt</th>\n",
       "      <th>assessmentyear</th>\n",
       "      <th>logerror</th>\n",
       "      <th>transactiondate</th>\n",
       "    </tr>\n",
       "  </thead>\n",
       "  <tbody>\n",
       "    <tr>\n",
       "      <th>0</th>\n",
       "      <td>3.0</td>\n",
       "      <td>4.0</td>\n",
       "      <td>2504.0</td>\n",
       "      <td>6037.0</td>\n",
       "      <td>0</td>\n",
       "      <td>6009.0</td>\n",
       "      <td>1979.0</td>\n",
       "      <td>262584.0</td>\n",
       "      <td>2016.0</td>\n",
       "      <td>0.015371</td>\n",
       "      <td>2017-01-10</td>\n",
       "    </tr>\n",
       "    <tr>\n",
       "      <th>1</th>\n",
       "      <td>3.0</td>\n",
       "      <td>4.0</td>\n",
       "      <td>2077.0</td>\n",
       "      <td>6037.0</td>\n",
       "      <td>0</td>\n",
       "      <td>11421.0</td>\n",
       "      <td>1979.0</td>\n",
       "      <td>950681.0</td>\n",
       "      <td>2016.0</td>\n",
       "      <td>-0.020910</td>\n",
       "      <td>2017-01-10</td>\n",
       "    </tr>\n",
       "    <tr>\n",
       "      <th>2</th>\n",
       "      <td>2.0</td>\n",
       "      <td>4.0</td>\n",
       "      <td>1722.0</td>\n",
       "      <td>6037.0</td>\n",
       "      <td>0</td>\n",
       "      <td>5410.0</td>\n",
       "      <td>1909.0</td>\n",
       "      <td>207351.0</td>\n",
       "      <td>2016.0</td>\n",
       "      <td>0.043068</td>\n",
       "      <td>2017-01-10</td>\n",
       "    </tr>\n",
       "    <tr>\n",
       "      <th>3</th>\n",
       "      <td>2.0</td>\n",
       "      <td>3.0</td>\n",
       "      <td>1242.0</td>\n",
       "      <td>6037.0</td>\n",
       "      <td>0</td>\n",
       "      <td>8328.0</td>\n",
       "      <td>1962.0</td>\n",
       "      <td>125553.0</td>\n",
       "      <td>2016.0</td>\n",
       "      <td>0.005903</td>\n",
       "      <td>2017-01-10</td>\n",
       "    </tr>\n",
       "    <tr>\n",
       "      <th>4</th>\n",
       "      <td>2.0</td>\n",
       "      <td>5.0</td>\n",
       "      <td>2359.0</td>\n",
       "      <td>6037.0</td>\n",
       "      <td>0</td>\n",
       "      <td>4844.0</td>\n",
       "      <td>1966.0</td>\n",
       "      <td>708879.0</td>\n",
       "      <td>2016.0</td>\n",
       "      <td>-0.056877</td>\n",
       "      <td>2017-01-10</td>\n",
       "    </tr>\n",
       "  </tbody>\n",
       "</table>\n",
       "</div>"
      ],
      "text/plain": [
       "   bathroomcnt  bedroomcnt  finishedsquarefeet12    fips  garagecarcnt  \\\n",
       "0          3.0         4.0                2504.0  6037.0             0   \n",
       "1          3.0         4.0                2077.0  6037.0             0   \n",
       "2          2.0         4.0                1722.0  6037.0             0   \n",
       "3          2.0         3.0                1242.0  6037.0             0   \n",
       "4          2.0         5.0                2359.0  6037.0             0   \n",
       "\n",
       "   lotsizesquarefeet  yearbuilt  taxvaluedollarcnt  assessmentyear  logerror  \\\n",
       "0             6009.0     1979.0           262584.0          2016.0  0.015371   \n",
       "1            11421.0     1979.0           950681.0          2016.0 -0.020910   \n",
       "2             5410.0     1909.0           207351.0          2016.0  0.043068   \n",
       "3             8328.0     1962.0           125553.0          2016.0  0.005903   \n",
       "4             4844.0     1966.0           708879.0          2016.0 -0.056877   \n",
       "\n",
       "  transactiondate  \n",
       "0      2017-01-10  \n",
       "1      2017-01-10  \n",
       "2      2017-01-10  \n",
       "3      2017-01-10  \n",
       "4      2017-01-10  "
      ]
     },
     "execution_count": 3,
     "metadata": {},
     "output_type": "execute_result"
    }
   ],
   "source": [
    "df = wrangle.zillow_proj_prep(df)\n",
    "# create a new dataframe with only longitude and latitude columns\n",
    "location_data = df.loc[:, ['longitude', 'latitude']]\n",
    "# drop longitude and latitude columns from original dataframe\n",
    "df.drop(columns=['longitude', 'latitude'], inplace=True)\n",
    "df.head()"
   ]
  },
  {
   "cell_type": "code",
   "execution_count": 4,
   "metadata": {},
   "outputs": [
    {
     "name": "stdout",
     "output_type": "stream",
     "text": [
      "(29026, 11)\n",
      "(12441, 11)\n",
      "(10367, 11)\n"
     ]
    }
   ],
   "source": [
    "# split the dataframe into train, validate, and test\n",
    "train, validate, test = wrangle.split_dataframe(df)\n",
    "print(train.shape)\n",
    "print(validate.shape)\n",
    "print(test.shape)"
   ]
  },
  {
   "cell_type": "code",
   "execution_count": 5,
   "metadata": {},
   "outputs": [],
   "source": [
    "train_subset = train.loc[:, ['bedroomcnt', 'finishedsquarefeet12']]\n",
    "validate_subset = validate.loc[:, ['bedroomcnt', 'finishedsquarefeet12']]\n",
    "test_subset = test.loc[:, ['bedroomcnt', 'finishedsquarefeet12']]"
   ]
  },
  {
   "cell_type": "code",
   "execution_count": 6,
   "metadata": {},
   "outputs": [],
   "source": [
    "# scale the train and validate data\n",
    "# trains = f_engineer.scale_minmax(train_subset)\n",
    "# validates = f_engineer.scale_minmax(validate_subset)\n",
    "# tests = f_engineer.scale_minmax(test_subset)"
   ]
  },
  {
   "cell_type": "code",
   "execution_count": 7,
   "metadata": {},
   "outputs": [],
   "source": [
    "predictions = pd.DataFrame({\n",
    "    'actual': validate.taxvaluedollarcnt\n",
    "})"
   ]
  },
  {
   "cell_type": "code",
   "execution_count": 8,
   "metadata": {},
   "outputs": [
    {
     "data": {
      "text/html": [
       "<div>\n",
       "<style scoped>\n",
       "    .dataframe tbody tr th:only-of-type {\n",
       "        vertical-align: middle;\n",
       "    }\n",
       "\n",
       "    .dataframe tbody tr th {\n",
       "        vertical-align: top;\n",
       "    }\n",
       "\n",
       "    .dataframe thead th {\n",
       "        text-align: right;\n",
       "    }\n",
       "</style>\n",
       "<table border=\"1\" class=\"dataframe\">\n",
       "  <thead>\n",
       "    <tr style=\"text-align: right;\">\n",
       "      <th></th>\n",
       "      <th>actual</th>\n",
       "    </tr>\n",
       "  </thead>\n",
       "  <tbody>\n",
       "    <tr>\n",
       "      <th>17073</th>\n",
       "      <td>780176.0</td>\n",
       "    </tr>\n",
       "    <tr>\n",
       "      <th>20295</th>\n",
       "      <td>247558.0</td>\n",
       "    </tr>\n",
       "    <tr>\n",
       "      <th>20557</th>\n",
       "      <td>346957.0</td>\n",
       "    </tr>\n",
       "    <tr>\n",
       "      <th>40782</th>\n",
       "      <td>390842.0</td>\n",
       "    </tr>\n",
       "    <tr>\n",
       "      <th>20266</th>\n",
       "      <td>1082260.0</td>\n",
       "    </tr>\n",
       "  </tbody>\n",
       "</table>\n",
       "</div>"
      ],
      "text/plain": [
       "          actual\n",
       "17073   780176.0\n",
       "20295   247558.0\n",
       "20557   346957.0\n",
       "40782   390842.0\n",
       "20266  1082260.0"
      ]
     },
     "execution_count": 8,
     "metadata": {},
     "output_type": "execute_result"
    }
   ],
   "source": [
    "predictions.head()"
   ]
  },
  {
   "cell_type": "code",
   "execution_count": 9,
   "metadata": {},
   "outputs": [],
   "source": [
    "from sklearn.linear_model import LinearRegression\n",
    "# simple model\n",
    "\n",
    "# X must be 2-d\n",
    "X_train = train[['bedroomcnt']]\n",
    "# y can be 1-d\n",
    "y_train = train.taxvaluedollarcnt\n",
    "\n",
    "# 1. make the thing\n",
    "lm = LinearRegression()\n",
    "# 2. fit the thing\n",
    "lm.fit(X_train, y_train)\n",
    "# 3. use the thing (make predictions)\n",
    "X_validate = validate[['bedroomcnt']]\n",
    "predictions['simple_lm'] = lm.predict(X_validate)"
   ]
  },
  {
   "cell_type": "code",
   "execution_count": 10,
   "metadata": {},
   "outputs": [
    {
     "data": {
      "text/html": [
       "<div>\n",
       "<style scoped>\n",
       "    .dataframe tbody tr th:only-of-type {\n",
       "        vertical-align: middle;\n",
       "    }\n",
       "\n",
       "    .dataframe tbody tr th {\n",
       "        vertical-align: top;\n",
       "    }\n",
       "\n",
       "    .dataframe thead th {\n",
       "        text-align: right;\n",
       "    }\n",
       "</style>\n",
       "<table border=\"1\" class=\"dataframe\">\n",
       "  <thead>\n",
       "    <tr style=\"text-align: right;\">\n",
       "      <th></th>\n",
       "      <th>actual</th>\n",
       "      <th>simple_lm</th>\n",
       "    </tr>\n",
       "  </thead>\n",
       "  <tbody>\n",
       "    <tr>\n",
       "      <th>17073</th>\n",
       "      <td>780176.0</td>\n",
       "      <td>458822.617890</td>\n",
       "    </tr>\n",
       "    <tr>\n",
       "      <th>20295</th>\n",
       "      <td>247558.0</td>\n",
       "      <td>668023.862343</td>\n",
       "    </tr>\n",
       "    <tr>\n",
       "      <th>20557</th>\n",
       "      <td>346957.0</td>\n",
       "      <td>249621.373438</td>\n",
       "    </tr>\n",
       "    <tr>\n",
       "      <th>40782</th>\n",
       "      <td>390842.0</td>\n",
       "      <td>668023.862343</td>\n",
       "    </tr>\n",
       "    <tr>\n",
       "      <th>20266</th>\n",
       "      <td>1082260.0</td>\n",
       "      <td>458822.617890</td>\n",
       "    </tr>\n",
       "  </tbody>\n",
       "</table>\n",
       "</div>"
      ],
      "text/plain": [
       "          actual      simple_lm\n",
       "17073   780176.0  458822.617890\n",
       "20295   247558.0  668023.862343\n",
       "20557   346957.0  249621.373438\n",
       "40782   390842.0  668023.862343\n",
       "20266  1082260.0  458822.617890"
      ]
     },
     "execution_count": 10,
     "metadata": {},
     "output_type": "execute_result"
    }
   ],
   "source": [
    "predictions.head()"
   ]
  },
  {
   "cell_type": "code",
   "execution_count": 11,
   "metadata": {},
   "outputs": [
    {
     "data": {
      "text/plain": [
       "(array([209201.24445237]), -168781.115466726)"
      ]
     },
     "execution_count": 11,
     "metadata": {},
     "output_type": "execute_result"
    }
   ],
   "source": [
    "# EVALUATE THE MODEL\n",
    "lm.coef_, lm.intercept_"
   ]
  },
  {
   "cell_type": "code",
   "execution_count": 12,
   "metadata": {},
   "outputs": [
    {
     "name": "stdout",
     "output_type": "stream",
     "text": [
      "taxvaluedollarcnt = 209201.244 * bedroomcnt + -168781.115\n"
     ]
    }
   ],
   "source": [
    "print('taxvaluedollarcnt = {:.3f} * bedroomcnt + {:.3f}'.format(lm.coef_[0], lm.intercept_))"
   ]
  },
  {
   "cell_type": "code",
   "execution_count": 13,
   "metadata": {},
   "outputs": [
    {
     "data": {
      "text/plain": [
       "<matplotlib.legend.Legend at 0x7fef80a938e0>"
      ]
     },
     "execution_count": 13,
     "metadata": {},
     "output_type": "execute_result"
    },
    {
     "data": {
      "image/png": "[encoded data removed]",
      "text/plain": [
       "<Figure size 720x432 with 1 Axes>"
      ]
     },
     "metadata": {
      "needs_background": "light"
     },
     "output_type": "display_data"
    }
   ],
   "source": [
    "x_pred = np.array([-25, 50]).reshape(-1, 1)\n",
    "y_pred = lm.predict(x_pred)\n",
    "\n",
    "plt.figure(figsize=(10, 6))\n",
    "plt.scatter(train.bedroomcnt, train.taxvaluedollarcnt, label='actual')\n",
    "plt.scatter(train.bedroomcnt, lm.predict(train[['bedroomcnt']]), label='simple_lm')\n",
    "plt.plot(x_pred, y_pred, ls='--', c='black', label='linear model prediction line')\n",
    "plt.hlines(0, -25, 100, ls=':', color='grey')\n",
    "plt.vlines(0, -10, 100, ls=':', color='grey')\n",
    "plt.xlabel('Bedrooms')\n",
    "plt.ylabel('Tax Value')\n",
    "plt.legend()"
   ]
  },
  {
   "cell_type": "code",
   "execution_count": 14,
   "metadata": {},
   "outputs": [
    {
     "name": "stdout",
     "output_type": "stream",
     "text": [
      "For every bedroom, we predict a 209201.24 dollars increase in tax value.\n"
     ]
    }
   ],
   "source": [
    "# tax value = 0.761 * bedroom + 22.003\n",
    "print(f'For every bedroom, we predict a {lm.coef_[0]:.2f} dollars increase in tax value.')"
   ]
  },
  {
   "cell_type": "code",
   "execution_count": 15,
   "metadata": {},
   "outputs": [],
   "source": [
    "# do the same for finished sqft\n",
    "# X must be 2-d\n",
    "X_train = train[['finishedsquarefeet12']]\n",
    "# y can be 1-d\n",
    "y_train = train.taxvaluedollarcnt\n",
    "\n",
    "# 1. make the thing\n",
    "lm = LinearRegression()\n",
    "# 2. fit the thing\n",
    "lm.fit(X_train, y_train)\n",
    "# 3. use the thing (make predictions)\n",
    "X_validate = validate[['finishedsquarefeet12']]\n",
    "predictions['simple_lm'] = lm.predict(X_validate)"
   ]
  },
  {
   "cell_type": "code",
   "execution_count": 16,
   "metadata": {},
   "outputs": [
    {
     "data": {
      "text/html": [
       "<div>\n",
       "<style scoped>\n",
       "    .dataframe tbody tr th:only-of-type {\n",
       "        vertical-align: middle;\n",
       "    }\n",
       "\n",
       "    .dataframe tbody tr th {\n",
       "        vertical-align: top;\n",
       "    }\n",
       "\n",
       "    .dataframe thead th {\n",
       "        text-align: right;\n",
       "    }\n",
       "</style>\n",
       "<table border=\"1\" class=\"dataframe\">\n",
       "  <thead>\n",
       "    <tr style=\"text-align: right;\">\n",
       "      <th></th>\n",
       "      <th>actual</th>\n",
       "      <th>simple_lm</th>\n",
       "    </tr>\n",
       "  </thead>\n",
       "  <tbody>\n",
       "    <tr>\n",
       "      <th>17073</th>\n",
       "      <td>780176.0</td>\n",
       "      <td>371373.528561</td>\n",
       "    </tr>\n",
       "    <tr>\n",
       "      <th>20295</th>\n",
       "      <td>247558.0</td>\n",
       "      <td>362197.564030</td>\n",
       "    </tr>\n",
       "    <tr>\n",
       "      <th>20557</th>\n",
       "      <td>346957.0</td>\n",
       "      <td>95657.641944</td>\n",
       "    </tr>\n",
       "    <tr>\n",
       "      <th>40782</th>\n",
       "      <td>390842.0</td>\n",
       "      <td>821432.741265</td>\n",
       "    </tr>\n",
       "    <tr>\n",
       "      <th>20266</th>\n",
       "      <td>1082260.0</td>\n",
       "      <td>559699.276790</td>\n",
       "    </tr>\n",
       "  </tbody>\n",
       "</table>\n",
       "</div>"
      ],
      "text/plain": [
       "          actual      simple_lm\n",
       "17073   780176.0  371373.528561\n",
       "20295   247558.0  362197.564030\n",
       "20557   346957.0   95657.641944\n",
       "40782   390842.0  821432.741265\n",
       "20266  1082260.0  559699.276790"
      ]
     },
     "execution_count": 16,
     "metadata": {},
     "output_type": "execute_result"
    }
   ],
   "source": [
    "predictions.head()"
   ]
  },
  {
   "cell_type": "code",
   "execution_count": 17,
   "metadata": {},
   "outputs": [
    {
     "data": {
      "text/plain": [
       "(array([436.95069195]), -314639.0577931771)"
      ]
     },
     "execution_count": 17,
     "metadata": {},
     "output_type": "execute_result"
    }
   ],
   "source": [
    "# EVALUATE THE MODEL\n",
    "lm.coef_, lm.intercept_"
   ]
  },
  {
   "cell_type": "code",
   "execution_count": 18,
   "metadata": {},
   "outputs": [
    {
     "name": "stdout",
     "output_type": "stream",
     "text": [
      "taxvaluedollarcnt = 436.951 * finishedsquarefeet12 + -314639.058\n"
     ]
    }
   ],
   "source": [
    "print('taxvaluedollarcnt = {:.3f} * finishedsquarefeet12 + {:.3f}'.format(lm.coef_[0], lm.intercept_))"
   ]
  },
  {
   "cell_type": "code",
   "execution_count": 19,
   "metadata": {},
   "outputs": [
    {
     "data": {
      "text/plain": [
       "<matplotlib.legend.Legend at 0x7fef80f5ceb0>"
      ]
     },
     "execution_count": 19,
     "metadata": {},
     "output_type": "execute_result"
    },
    {
     "data": {
      "image/png": "[encoded data removed]",
      "text/plain": [
       "<Figure size 720x432 with 1 Axes>"
      ]
     },
     "metadata": {
      "needs_background": "light"
     },
     "output_type": "display_data"
    }
   ],
   "source": [
    "x_pred = np.array([-25, 100]).reshape(-1, 1)\n",
    "y_pred = lm.predict(x_pred)\n",
    "\n",
    "plt.figure(figsize=(10, 6))\n",
    "plt.scatter(train.finishedsquarefeet12, train.taxvaluedollarcnt, label='actual')\n",
    "plt.scatter(train.finishedsquarefeet12, lm.predict(train[['finishedsquarefeet12']]), label='simple_lm')\n",
    "plt.plot(x_pred, y_pred, ls='--', c='black', label='linear model prediction line')\n",
    "plt.hlines(0, -25, 100, ls=':', color='grey')\n",
    "plt.vlines(0, -10, 100, ls=':', color='grey')\n",
    "\n",
    "plt.xlabel('Sqft')\n",
    "plt.ylabel('Tax Value')\n",
    "plt.legend()"
   ]
  },
  {
   "cell_type": "code",
   "execution_count": 20,
   "metadata": {},
   "outputs": [
    {
     "name": "stdout",
     "output_type": "stream",
     "text": [
      "For every 1 square foot increase, we predict a 436.95 dollars increase in tax value.\n"
     ]
    }
   ],
   "source": [
    "# tax value = 0.761 * sqrft + 22.003\n",
    "print(f'For every 1 square foot increase, we predict a {lm.coef_[0]:.2f} dollars increase in tax value.')"
   ]
  },
  {
   "cell_type": "code",
   "execution_count": 21,
   "metadata": {},
   "outputs": [
    {
     "name": "stdout",
     "output_type": "stream",
     "text": [
      "selected top 2 features: Index(['bedroomcnt', 'finishedsquarefeet12'], dtype='object')\n"
     ]
    },
    {
     "data": {
      "text/html": [
       "<div>\n",
       "<style scoped>\n",
       "    .dataframe tbody tr th:only-of-type {\n",
       "        vertical-align: middle;\n",
       "    }\n",
       "\n",
       "    .dataframe tbody tr th {\n",
       "        vertical-align: top;\n",
       "    }\n",
       "\n",
       "    .dataframe thead th {\n",
       "        text-align: right;\n",
       "    }\n",
       "</style>\n",
       "<table border=\"1\" class=\"dataframe\">\n",
       "  <thead>\n",
       "    <tr style=\"text-align: right;\">\n",
       "      <th></th>\n",
       "      <th>actual</th>\n",
       "      <th>simple_lm</th>\n",
       "      <th>multiple_rfe</th>\n",
       "    </tr>\n",
       "  </thead>\n",
       "  <tbody>\n",
       "    <tr>\n",
       "      <th>17073</th>\n",
       "      <td>780176.0</td>\n",
       "      <td>371373.528561</td>\n",
       "      <td>385225.864982</td>\n",
       "    </tr>\n",
       "    <tr>\n",
       "      <th>20295</th>\n",
       "      <td>247558.0</td>\n",
       "      <td>362197.564030</td>\n",
       "      <td>234097.966287</td>\n",
       "    </tr>\n",
       "    <tr>\n",
       "      <th>20557</th>\n",
       "      <td>346957.0</td>\n",
       "      <td>95657.641944</td>\n",
       "      <td>197564.021865</td>\n",
       "    </tr>\n",
       "    <tr>\n",
       "      <th>40782</th>\n",
       "      <td>390842.0</td>\n",
       "      <td>821432.741265</td>\n",
       "      <td>780214.559300</td>\n",
       "    </tr>\n",
       "    <tr>\n",
       "      <th>20266</th>\n",
       "      <td>1082260.0</td>\n",
       "      <td>559699.276790</td>\n",
       "      <td>609180.433572</td>\n",
       "    </tr>\n",
       "  </tbody>\n",
       "</table>\n",
       "</div>"
      ],
      "text/plain": [
       "          actual      simple_lm   multiple_rfe\n",
       "17073   780176.0  371373.528561  385225.864982\n",
       "20295   247558.0  362197.564030  234097.966287\n",
       "20557   346957.0   95657.641944  197564.021865\n",
       "40782   390842.0  821432.741265  780214.559300\n",
       "20266  1082260.0  559699.276790  609180.433572"
      ]
     },
     "execution_count": 21,
     "metadata": {},
     "output_type": "execute_result"
    }
   ],
   "source": [
    "## Multiple Regression + RFE\n",
    "X_train = train[['bedroomcnt', 'finishedsquarefeet12']]\n",
    "y_train = train.taxvaluedollarcnt\n",
    "X_validate = validate[['bedroomcnt', 'finishedsquarefeet12']]\n",
    "\n",
    "lm = LinearRegression()\n",
    "k = 2\n",
    "\n",
    "# 1. Transform our X\n",
    "rfe = RFE(lm, n_features_to_select=2)\n",
    "rfe.fit(X_train, y_train)\n",
    "print('selected top 2 features:', X_train.columns[rfe.support_])\n",
    "X_train_rfe = rfe.transform(X_train)\n",
    "\n",
    "# 2. Use the transformed x in our model\n",
    "lm.fit(X_train_rfe, y_train)\n",
    "\n",
    "# 3. Make predictions\n",
    "X_validate_rfe = rfe.transform(X_validate)\n",
    "predictions['multiple_rfe'] = lm.predict(X_validate_rfe)\n",
    "\n",
    "predictions.head()"
   ]
  },
  {
   "cell_type": "code",
   "execution_count": 22,
   "metadata": {},
   "outputs": [
    {
     "data": {
      "text/plain": [
       "Index(['bedroomcnt', 'finishedsquarefeet12'], dtype='object')"
      ]
     },
     "execution_count": 22,
     "metadata": {},
     "output_type": "execute_result"
    }
   ],
   "source": [
    "X_train.columns[rfe.support_]"
   ]
  },
  {
   "cell_type": "code",
   "execution_count": 23,
   "metadata": {},
   "outputs": [
    {
     "data": {
      "text/plain": [
       "(array([-140215.95915792,     519.61616842]), -9923.641968251672)"
      ]
     },
     "execution_count": 23,
     "metadata": {},
     "output_type": "execute_result"
    }
   ],
   "source": [
    "lm.coef_, lm.intercept_"
   ]
  },
  {
   "cell_type": "code",
   "execution_count": 24,
   "metadata": {},
   "outputs": [
    {
     "name": "stdout",
     "output_type": "stream",
     "text": [
      "tax value = -140215.96 x bedrooms + 519.62 x square feet + -9923.64\n"
     ]
    }
   ],
   "source": [
    "print(f'tax value = {lm.coef_[0]:.2f} x bedrooms + {lm.coef_[1]:.2f} x square feet + {lm.intercept_:.2f}')"
   ]
  },
  {
   "cell_type": "code",
   "execution_count": 25,
   "metadata": {},
   "outputs": [
    {
     "data": {
      "text/html": [
       "<div>\n",
       "<style scoped>\n",
       "    .dataframe tbody tr th:only-of-type {\n",
       "        vertical-align: middle;\n",
       "    }\n",
       "\n",
       "    .dataframe tbody tr th {\n",
       "        vertical-align: top;\n",
       "    }\n",
       "\n",
       "    .dataframe thead th {\n",
       "        text-align: right;\n",
       "    }\n",
       "</style>\n",
       "<table border=\"1\" class=\"dataframe\">\n",
       "  <thead>\n",
       "    <tr style=\"text-align: right;\">\n",
       "      <th></th>\n",
       "      <th>bedroomcnt</th>\n",
       "      <th>finishedsquarefeet12</th>\n",
       "      <th>bedroomcnt^2</th>\n",
       "      <th>bedroomcnt finishedsquarefeet12</th>\n",
       "      <th>finishedsquarefeet12^2</th>\n",
       "    </tr>\n",
       "  </thead>\n",
       "  <tbody>\n",
       "    <tr>\n",
       "      <th>48363</th>\n",
       "      <td>2.0</td>\n",
       "      <td>1370.0</td>\n",
       "      <td>4.0</td>\n",
       "      <td>2740.0</td>\n",
       "      <td>1876900.0</td>\n",
       "    </tr>\n",
       "    <tr>\n",
       "      <th>9545</th>\n",
       "      <td>3.0</td>\n",
       "      <td>2096.0</td>\n",
       "      <td>9.0</td>\n",
       "      <td>6288.0</td>\n",
       "      <td>4393216.0</td>\n",
       "    </tr>\n",
       "    <tr>\n",
       "      <th>6489</th>\n",
       "      <td>2.0</td>\n",
       "      <td>1809.0</td>\n",
       "      <td>4.0</td>\n",
       "      <td>3618.0</td>\n",
       "      <td>3272481.0</td>\n",
       "    </tr>\n",
       "    <tr>\n",
       "      <th>8697</th>\n",
       "      <td>6.0</td>\n",
       "      <td>3906.0</td>\n",
       "      <td>36.0</td>\n",
       "      <td>23436.0</td>\n",
       "      <td>15256836.0</td>\n",
       "    </tr>\n",
       "    <tr>\n",
       "      <th>5280</th>\n",
       "      <td>3.0</td>\n",
       "      <td>1154.0</td>\n",
       "      <td>9.0</td>\n",
       "      <td>3462.0</td>\n",
       "      <td>1331716.0</td>\n",
       "    </tr>\n",
       "  </tbody>\n",
       "</table>\n",
       "</div>"
      ],
      "text/plain": [
       "       bedroomcnt  finishedsquarefeet12  bedroomcnt^2  \\\n",
       "48363         2.0                1370.0           4.0   \n",
       "9545          3.0                2096.0           9.0   \n",
       "6489          2.0                1809.0           4.0   \n",
       "8697          6.0                3906.0          36.0   \n",
       "5280          3.0                1154.0           9.0   \n",
       "\n",
       "       bedroomcnt finishedsquarefeet12  finishedsquarefeet12^2  \n",
       "48363                           2740.0               1876900.0  \n",
       "9545                            6288.0               4393216.0  \n",
       "6489                            3618.0               3272481.0  \n",
       "8697                           23436.0              15256836.0  \n",
       "5280                            3462.0               1331716.0  "
      ]
     },
     "execution_count": 25,
     "metadata": {},
     "output_type": "execute_result"
    }
   ],
   "source": [
    "from sklearn.preprocessing import PolynomialFeatures\n",
    "\n",
    "X_train = train[['bedroomcnt', 'finishedsquarefeet12']]\n",
    "y_train = train.taxvaluedollarcnt\n",
    "X_validate = validate[['bedroomcnt', 'finishedsquarefeet12']]\n",
    "\n",
    "# 1. Generate Polynomial Features\n",
    "poly = PolynomialFeatures(degree=2, include_bias=False, interaction_only=False)\n",
    "poly.fit(X_train)\n",
    "X_train_poly = pd.DataFrame(\n",
    "    poly.transform(X_train),\n",
    "    columns=poly.get_feature_names(X_train.columns),\n",
    "    index=train.index,\n",
    ")\n",
    "X_train_poly.head()"
   ]
  },
  {
   "cell_type": "code",
   "execution_count": 26,
   "metadata": {},
   "outputs": [],
   "source": [
    "lm = LinearRegression()\n",
    "lm.fit(X_train_poly, y_train)\n",
    "\n",
    "X_validate_poly = poly.transform(X_validate)\n",
    "predictions['polynomial degree 2'] = lm.predict(X_validate_poly)"
   ]
  },
  {
   "cell_type": "code",
   "execution_count": 27,
   "metadata": {},
   "outputs": [
    {
     "data": {
      "text/plain": [
       "bedroomcnt                        -99911.229161\n",
       "bedroomcnt finishedsquarefeet12       -7.088766\n",
       "finishedsquarefeet12^2                 0.035238\n",
       "finishedsquarefeet12                 291.558776\n",
       "bedroomcnt^2                        2098.774450\n",
       "dtype: float64"
      ]
     },
     "execution_count": 27,
     "metadata": {},
     "output_type": "execute_result"
    }
   ],
   "source": [
    "feature_names = poly.get_feature_names(X_train.columns)\n",
    "pd.Series(lm.coef_, index=feature_names).sort_values()"
   ]
  },
  {
   "cell_type": "code",
   "execution_count": 28,
   "metadata": {},
   "outputs": [
    {
     "data": {
      "text/plain": [
       "bedroomcnt                        -237825.357686\n",
       "bedroomcnt finishedsquarefeet12        57.832019\n",
       "finishedsquarefeet12                  262.323365\n",
       "dtype: float64"
      ]
     },
     "execution_count": 28,
     "metadata": {},
     "output_type": "execute_result"
    }
   ],
   "source": [
    "poly = PolynomialFeatures(degree=2, include_bias=False, interaction_only=True)\n",
    "poly.fit(X_train)\n",
    "X_train_poly = pd.DataFrame(\n",
    "    poly.transform(X_train),\n",
    "    columns=poly.get_feature_names(X_train.columns),\n",
    "    index=train.index,\n",
    ")\n",
    "lm = LinearRegression()\n",
    "lm.fit(X_train_poly, y_train)\n",
    "\n",
    "X_validate_poly = poly.transform(X_validate)\n",
    "predictions['polynomial only interaction'] = lm.predict(X_validate_poly)\n",
    "\n",
    "pd.Series(lm.coef_, index=poly.get_feature_names(X_train.columns)).sort_values()"
   ]
  },
  {
   "cell_type": "code",
   "execution_count": 29,
   "metadata": {},
   "outputs": [],
   "source": [
    "# Evaluate the model with baselone\n",
    "# add a baseline model\n",
    "predictions['baseline'] = train.taxvaluedollarcnt.mean()"
   ]
  },
  {
   "cell_type": "code",
   "execution_count": 30,
   "metadata": {},
   "outputs": [
    {
     "data": {
      "text/html": [
       "<div>\n",
       "<style scoped>\n",
       "    .dataframe tbody tr th:only-of-type {\n",
       "        vertical-align: middle;\n",
       "    }\n",
       "\n",
       "    .dataframe tbody tr th {\n",
       "        vertical-align: top;\n",
       "    }\n",
       "\n",
       "    .dataframe thead th {\n",
       "        text-align: right;\n",
       "    }\n",
       "</style>\n",
       "<table border=\"1\" class=\"dataframe\">\n",
       "  <thead>\n",
       "    <tr style=\"text-align: right;\">\n",
       "      <th></th>\n",
       "      <th>actual</th>\n",
       "      <th>simple_lm</th>\n",
       "      <th>multiple_rfe</th>\n",
       "      <th>polynomial degree 2</th>\n",
       "      <th>polynomial only interaction</th>\n",
       "      <th>baseline</th>\n",
       "    </tr>\n",
       "  </thead>\n",
       "  <tbody>\n",
       "    <tr>\n",
       "      <th>17073</th>\n",
       "      <td>780176.0</td>\n",
       "      <td>371373.528561</td>\n",
       "      <td>385225.864982</td>\n",
       "      <td>384010.419904</td>\n",
       "      <td>376192.813180</td>\n",
       "      <td>522009.667781</td>\n",
       "    </tr>\n",
       "    <tr>\n",
       "      <th>20295</th>\n",
       "      <td>247558.0</td>\n",
       "      <td>362197.564030</td>\n",
       "      <td>234097.966287</td>\n",
       "      <td>279825.899820</td>\n",
       "      <td>218797.045432</td>\n",
       "      <td>522009.667781</td>\n",
       "    </tr>\n",
       "    <tr>\n",
       "      <th>20557</th>\n",
       "      <td>346957.0</td>\n",
       "      <td>95657.641944</td>\n",
       "      <td>197564.021865</td>\n",
       "      <td>253741.083630</td>\n",
       "      <td>284711.848967</td>\n",
       "      <td>522009.667781</td>\n",
       "    </tr>\n",
       "    <tr>\n",
       "      <th>40782</th>\n",
       "      <td>390842.0</td>\n",
       "      <td>821432.741265</td>\n",
       "      <td>780214.559300</td>\n",
       "      <td>710112.971157</td>\n",
       "      <td>737624.711087</td>\n",
       "      <td>522009.667781</td>\n",
       "    </tr>\n",
       "    <tr>\n",
       "      <th>20266</th>\n",
       "      <td>1082260.0</td>\n",
       "      <td>559699.276790</td>\n",
       "      <td>609180.433572</td>\n",
       "      <td>554741.736294</td>\n",
       "      <td>564030.984431</td>\n",
       "      <td>522009.667781</td>\n",
       "    </tr>\n",
       "  </tbody>\n",
       "</table>\n",
       "</div>"
      ],
      "text/plain": [
       "          actual      simple_lm   multiple_rfe  polynomial degree 2  \\\n",
       "17073   780176.0  371373.528561  385225.864982        384010.419904   \n",
       "20295   247558.0  362197.564030  234097.966287        279825.899820   \n",
       "20557   346957.0   95657.641944  197564.021865        253741.083630   \n",
       "40782   390842.0  821432.741265  780214.559300        710112.971157   \n",
       "20266  1082260.0  559699.276790  609180.433572        554741.736294   \n",
       "\n",
       "       polynomial only interaction       baseline  \n",
       "17073                376192.813180  522009.667781  \n",
       "20295                218797.045432  522009.667781  \n",
       "20557                284711.848967  522009.667781  \n",
       "40782                737624.711087  522009.667781  \n",
       "20266                564030.984431  522009.667781  "
      ]
     },
     "execution_count": 30,
     "metadata": {},
     "output_type": "execute_result"
    }
   ],
   "source": [
    "predictions.head()"
   ]
  },
  {
   "cell_type": "code",
   "execution_count": 31,
   "metadata": {},
   "outputs": [
    {
     "data": {
      "text/plain": [
       "actual                         0.000000e+00\n",
       "simple_lm                      3.681490e+11\n",
       "multiple_rfe                   3.591434e+11\n",
       "polynomial degree 2            3.415061e+11\n",
       "polynomial only interaction    3.455025e+11\n",
       "baseline                       5.724992e+11\n",
       "dtype: float64"
      ]
     },
     "execution_count": 31,
     "metadata": {},
     "output_type": "execute_result"
    }
   ],
   "source": [
    "def calculate_mse(y_predicted):\n",
    "    return mean_squared_error(predictions.actual, y_predicted)\n",
    "\n",
    "predictions.apply(calculate_mse)"
   ]
  },
  {
   "cell_type": "code",
   "execution_count": 32,
   "metadata": {},
   "outputs": [
    {
     "data": {
      "text/plain": [
       "LinearRegression()"
      ]
     },
     "execution_count": 32,
     "metadata": {},
     "output_type": "execute_result"
    }
   ],
   "source": [
    "# re-create our polynomial model\n",
    "X_train = train[['bedroomcnt', 'finishedsquarefeet12']]\n",
    "y_train = train.taxvaluedollarcnt\n",
    "\n",
    "poly = PolynomialFeatures(degree=2, include_bias=False, interaction_only=False)\n",
    "poly.fit(X_train)\n",
    "X_train_poly = pd.DataFrame(\n",
    "    poly.transform(X_train),\n",
    "    columns=poly.get_feature_names(X_train.columns),\n",
    "    index=train.index,\n",
    ")\n",
    "\n",
    "lm = LinearRegression()\n",
    "lm.fit(X_train_poly, y_train)"
   ]
  },
  {
   "cell_type": "code",
   "execution_count": 33,
   "metadata": {},
   "outputs": [],
   "source": [
    "X_test = test[['bedroomcnt', 'finishedsquarefeet12']]\n",
    "X_test_poly = poly.transform(X_test)\n",
    "\n",
    "test_predictions = lm.predict(X_test_poly)\n",
    "test_actual = test.taxvaluedollarcnt"
   ]
  },
  {
   "cell_type": "code",
   "execution_count": 34,
   "metadata": {},
   "outputs": [
    {
     "data": {
      "text/plain": [
       "293825706209.5243"
      ]
     },
     "execution_count": 34,
     "metadata": {},
     "output_type": "execute_result"
    }
   ],
   "source": [
    "mean_squared_error(test_actual, test_predictions)"
   ]
  },
  {
   "cell_type": "code",
   "execution_count": 36,
   "metadata": {},
   "outputs": [
    {
     "data": {
      "text/plain": [
       "542056.9215585429"
      ]
     },
     "execution_count": 36,
     "metadata": {},
     "output_type": "execute_result"
    }
   ],
   "source": [
    "import math \n",
    "# square root of mse\n",
    "math.sqrt(mean_squared_error(test_actual, test_predictions))"
   ]
  },
  {
   "cell_type": "code",
   "execution_count": null,
   "metadata": {},
   "outputs": [],
   "source": []
  }
 ],
 "metadata": {
  "interpreter": {
   "hash": "3067ead486e059ec00ffe7555bdb889e6e264a24dc711bf108106cc7baee8d5d"
  },
  "kernelspec": {
   "display_name": "Python 3.9.7 ('base')",
   "language": "python",
   "name": "python3"
  },
  "language_info": {
   "codemirror_mode": {
    "name": "ipython",
    "version": 3
   },
   "file_extension": ".py",
   "mimetype": "text/x-python",
   "name": "python",
   "nbconvert_exporter": "python",
   "pygments_lexer": "ipython3",
   "version": "3.9.7"
  },
  "orig_nbformat": 4
 },
 "nbformat": 4,
 "nbformat_minor": 2
}
