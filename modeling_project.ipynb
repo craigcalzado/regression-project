{
 "cells": [
  {
   "cell_type": "code",
   "execution_count": 1,
   "metadata": {},
   "outputs": [],
   "source": [
    "import numpy as np\n",
    "import pandas as pd\n",
    "import wrangle\n",
    "import matplotlib.pyplot as plt\n",
    "from sklearn.feature_selection import RFE\n",
    "from sklearn.metrics import mean_squared_error\n",
    "from sklearn.preprocessing import MinMaxScaler\n",
    "import f_engineer"
   ]
  },
  {
   "cell_type": "code",
   "execution_count": 2,
   "metadata": {},
   "outputs": [
    {
     "name": "stdout",
     "output_type": "stream",
     "text": [
      "Let me get that for you...\n"
     ]
    }
   ],
   "source": [
    "df = wrangle.get_zillow_project_data()"
   ]
  },
  {
   "cell_type": "code",
   "execution_count": 3,
   "metadata": {},
   "outputs": [
    {
     "data": {
      "text/html": [
       "<div>\n",
       "<style scoped>\n",
       "    .dataframe tbody tr th:only-of-type {\n",
       "        vertical-align: middle;\n",
       "    }\n",
       "\n",
       "    .dataframe tbody tr th {\n",
       "        vertical-align: top;\n",
       "    }\n",
       "\n",
       "    .dataframe thead th {\n",
       "        text-align: right;\n",
       "    }\n",
       "</style>\n",
       "<table border=\"1\" class=\"dataframe\">\n",
       "  <thead>\n",
       "    <tr style=\"text-align: right;\">\n",
       "      <th></th>\n",
       "      <th>bathroomcnt</th>\n",
       "      <th>bedroomcnt</th>\n",
       "      <th>finishedsquarefeet12</th>\n",
       "      <th>fips</th>\n",
       "      <th>garagecarcnt</th>\n",
       "      <th>lotsizesquarefeet</th>\n",
       "      <th>yearbuilt</th>\n",
       "      <th>taxvaluedollarcnt</th>\n",
       "      <th>assessmentyear</th>\n",
       "      <th>logerror</th>\n",
       "      <th>transactiondate</th>\n",
       "    </tr>\n",
       "  </thead>\n",
       "  <tbody>\n",
       "    <tr>\n",
       "      <th>0</th>\n",
       "      <td>3.0</td>\n",
       "      <td>4.0</td>\n",
       "      <td>2504.0</td>\n",
       "      <td>6037.0</td>\n",
       "      <td>0</td>\n",
       "      <td>6009.0</td>\n",
       "      <td>1979.0</td>\n",
       "      <td>262584.0</td>\n",
       "      <td>2016.0</td>\n",
       "      <td>0.015371</td>\n",
       "      <td>2017-01-10</td>\n",
       "    </tr>\n",
       "    <tr>\n",
       "      <th>1</th>\n",
       "      <td>3.0</td>\n",
       "      <td>4.0</td>\n",
       "      <td>2077.0</td>\n",
       "      <td>6037.0</td>\n",
       "      <td>0</td>\n",
       "      <td>11421.0</td>\n",
       "      <td>1979.0</td>\n",
       "      <td>950681.0</td>\n",
       "      <td>2016.0</td>\n",
       "      <td>-0.020910</td>\n",
       "      <td>2017-01-10</td>\n",
       "    </tr>\n",
       "    <tr>\n",
       "      <th>2</th>\n",
       "      <td>2.0</td>\n",
       "      <td>4.0</td>\n",
       "      <td>1722.0</td>\n",
       "      <td>6037.0</td>\n",
       "      <td>0</td>\n",
       "      <td>5410.0</td>\n",
       "      <td>1909.0</td>\n",
       "      <td>207351.0</td>\n",
       "      <td>2016.0</td>\n",
       "      <td>0.043068</td>\n",
       "      <td>2017-01-10</td>\n",
       "    </tr>\n",
       "    <tr>\n",
       "      <th>3</th>\n",
       "      <td>2.0</td>\n",
       "      <td>3.0</td>\n",
       "      <td>1242.0</td>\n",
       "      <td>6037.0</td>\n",
       "      <td>0</td>\n",
       "      <td>8328.0</td>\n",
       "      <td>1962.0</td>\n",
       "      <td>125553.0</td>\n",
       "      <td>2016.0</td>\n",
       "      <td>0.005903</td>\n",
       "      <td>2017-01-10</td>\n",
       "    </tr>\n",
       "    <tr>\n",
       "      <th>4</th>\n",
       "      <td>2.0</td>\n",
       "      <td>5.0</td>\n",
       "      <td>2359.0</td>\n",
       "      <td>6037.0</td>\n",
       "      <td>0</td>\n",
       "      <td>4844.0</td>\n",
       "      <td>1966.0</td>\n",
       "      <td>708879.0</td>\n",
       "      <td>2016.0</td>\n",
       "      <td>-0.056877</td>\n",
       "      <td>2017-01-10</td>\n",
       "    </tr>\n",
       "  </tbody>\n",
       "</table>\n",
       "</div>"
      ],
      "text/plain": [
       "   bathroomcnt  bedroomcnt  finishedsquarefeet12    fips  garagecarcnt  \\\n",
       "0          3.0         4.0                2504.0  6037.0             0   \n",
       "1          3.0         4.0                2077.0  6037.0             0   \n",
       "2          2.0         4.0                1722.0  6037.0             0   \n",
       "3          2.0         3.0                1242.0  6037.0             0   \n",
       "4          2.0         5.0                2359.0  6037.0             0   \n",
       "\n",
       "   lotsizesquarefeet  yearbuilt  taxvaluedollarcnt  assessmentyear  logerror  \\\n",
       "0             6009.0     1979.0           262584.0          2016.0  0.015371   \n",
       "1            11421.0     1979.0           950681.0          2016.0 -0.020910   \n",
       "2             5410.0     1909.0           207351.0          2016.0  0.043068   \n",
       "3             8328.0     1962.0           125553.0          2016.0  0.005903   \n",
       "4             4844.0     1966.0           708879.0          2016.0 -0.056877   \n",
       "\n",
       "  transactiondate  \n",
       "0      2017-01-10  \n",
       "1      2017-01-10  \n",
       "2      2017-01-10  \n",
       "3      2017-01-10  \n",
       "4      2017-01-10  "
      ]
     },
     "execution_count": 3,
     "metadata": {},
     "output_type": "execute_result"
    }
   ],
   "source": [
    "df = wrangle.zillow_proj_prep(df)\n",
    "# create a new dataframe with only longitude and latitude columns\n",
    "location_data = df.loc[:, ['longitude', 'latitude']]\n",
    "# drop longitude and latitude columns from original dataframe\n",
    "df.drop(columns=['longitude', 'latitude'], inplace=True)\n",
    "df.head()"
   ]
  },
  {
   "cell_type": "code",
   "execution_count": 4,
   "metadata": {},
   "outputs": [
    {
     "name": "stdout",
     "output_type": "stream",
     "text": [
      "(29026, 11)\n",
      "(12441, 11)\n",
      "(10367, 11)\n"
     ]
    }
   ],
   "source": [
    "# split the dataframe into train, validate, and test\n",
    "train, validate, test = wrangle.split_dataframe(df)\n",
    "print(train.shape)\n",
    "print(validate.shape)\n",
    "print(test.shape)"
   ]
  },
  {
   "cell_type": "code",
   "execution_count": 5,
   "metadata": {},
   "outputs": [],
   "source": [
    "train_subset = train.loc[:, ['bathroomcnt', 'bedroomcnt', 'finishedsquarefeet12']]\n",
    "validate_subset = validate.loc[:, ['bathroomcnt', 'bedroomcnt', 'finishedsquarefeet12']]\n",
    "test_subset = test.loc[:, ['bathroomcnt', 'bedroomcnt', 'finishedsquarefeet12']]"
   ]
  },
  {
   "cell_type": "code",
   "execution_count": 6,
   "metadata": {},
   "outputs": [],
   "source": [
    "# scale the train and validate data\n",
    "trains = f_engineer.scale_minmax(train_subset)\n",
    "validates = f_engineer.scale_minmax(validate_subset)\n",
    "tests = f_engineer.scale_minmax(test_subset)"
   ]
  },
  {
   "cell_type": "code",
   "execution_count": 7,
   "metadata": {},
   "outputs": [],
   "source": [
    "predictions = pd.DataFrame({\n",
    "    'actual': validate.taxvaluedollarcnt\n",
    "})"
   ]
  },
  {
   "cell_type": "code",
   "execution_count": 8,
   "metadata": {},
   "outputs": [
    {
     "data": {
      "text/html": [
       "<div>\n",
       "<style scoped>\n",
       "    .dataframe tbody tr th:only-of-type {\n",
       "        vertical-align: middle;\n",
       "    }\n",
       "\n",
       "    .dataframe tbody tr th {\n",
       "        vertical-align: top;\n",
       "    }\n",
       "\n",
       "    .dataframe thead th {\n",
       "        text-align: right;\n",
       "    }\n",
       "</style>\n",
       "<table border=\"1\" class=\"dataframe\">\n",
       "  <thead>\n",
       "    <tr style=\"text-align: right;\">\n",
       "      <th></th>\n",
       "      <th>actual</th>\n",
       "    </tr>\n",
       "  </thead>\n",
       "  <tbody>\n",
       "    <tr>\n",
       "      <th>17073</th>\n",
       "      <td>780176.0</td>\n",
       "    </tr>\n",
       "    <tr>\n",
       "      <th>20295</th>\n",
       "      <td>247558.0</td>\n",
       "    </tr>\n",
       "    <tr>\n",
       "      <th>20557</th>\n",
       "      <td>346957.0</td>\n",
       "    </tr>\n",
       "    <tr>\n",
       "      <th>40782</th>\n",
       "      <td>390842.0</td>\n",
       "    </tr>\n",
       "    <tr>\n",
       "      <th>20266</th>\n",
       "      <td>1082260.0</td>\n",
       "    </tr>\n",
       "  </tbody>\n",
       "</table>\n",
       "</div>"
      ],
      "text/plain": [
       "          actual\n",
       "17073   780176.0\n",
       "20295   247558.0\n",
       "20557   346957.0\n",
       "40782   390842.0\n",
       "20266  1082260.0"
      ]
     },
     "execution_count": 8,
     "metadata": {},
     "output_type": "execute_result"
    }
   ],
   "source": [
    "predictions.head()"
   ]
  },
  {
   "cell_type": "code",
   "execution_count": 9,
   "metadata": {},
   "outputs": [],
   "source": [
    "from sklearn.linear_model import LinearRegression\n",
    "# simple model\n",
    "\n",
    "# X must be 2-d\n",
    "X_train = trains[['bathroomcnt']]\n",
    "# y can be 1-d\n",
    "y_train = train.taxvaluedollarcnt\n",
    "\n",
    "# 1. make the thing\n",
    "lm = LinearRegression()\n",
    "# 2. fit the thing\n",
    "lm.fit(X_train, y_train)\n",
    "# 3. use the thing (make predictions)\n",
    "X_validate = validate[['bathroomcnt']]\n",
    "predictions['simple_lm'] = lm.predict(X_validate)"
   ]
  },
  {
   "cell_type": "code",
   "execution_count": 10,
   "metadata": {},
   "outputs": [
    {
     "data": {
      "text/html": [
       "<div>\n",
       "<style scoped>\n",
       "    .dataframe tbody tr th:only-of-type {\n",
       "        vertical-align: middle;\n",
       "    }\n",
       "\n",
       "    .dataframe tbody tr th {\n",
       "        vertical-align: top;\n",
       "    }\n",
       "\n",
       "    .dataframe thead th {\n",
       "        text-align: right;\n",
       "    }\n",
       "</style>\n",
       "<table border=\"1\" class=\"dataframe\">\n",
       "  <thead>\n",
       "    <tr style=\"text-align: right;\">\n",
       "      <th></th>\n",
       "      <th>actual</th>\n",
       "      <th>simple_lm</th>\n",
       "    </tr>\n",
       "  </thead>\n",
       "  <tbody>\n",
       "    <tr>\n",
       "      <th>17073</th>\n",
       "      <td>780176.0</td>\n",
       "      <td>1.389728e+07</td>\n",
       "    </tr>\n",
       "    <tr>\n",
       "      <th>20295</th>\n",
       "      <td>247558.0</td>\n",
       "      <td>7.802074e+06</td>\n",
       "    </tr>\n",
       "    <tr>\n",
       "      <th>20557</th>\n",
       "      <td>346957.0</td>\n",
       "      <td>3.738604e+06</td>\n",
       "    </tr>\n",
       "    <tr>\n",
       "      <th>40782</th>\n",
       "      <td>390842.0</td>\n",
       "      <td>1.186554e+07</td>\n",
       "    </tr>\n",
       "    <tr>\n",
       "      <th>20266</th>\n",
       "      <td>1082260.0</td>\n",
       "      <td>7.802074e+06</td>\n",
       "    </tr>\n",
       "  </tbody>\n",
       "</table>\n",
       "</div>"
      ],
      "text/plain": [
       "          actual     simple_lm\n",
       "17073   780176.0  1.389728e+07\n",
       "20295   247558.0  7.802074e+06\n",
       "20557   346957.0  3.738604e+06\n",
       "40782   390842.0  1.186554e+07\n",
       "20266  1082260.0  7.802074e+06"
      ]
     },
     "execution_count": 10,
     "metadata": {},
     "output_type": "execute_result"
    }
   ],
   "source": [
    "predictions.head()"
   ]
  },
  {
   "cell_type": "code",
   "execution_count": 11,
   "metadata": {},
   "outputs": [
    {
     "data": {
      "text/plain": [
       "(array([4063469.90755569]), -324865.7920218187)"
      ]
     },
     "execution_count": 11,
     "metadata": {},
     "output_type": "execute_result"
    }
   ],
   "source": [
    "# EVALUATE THE MODEL\n",
    "lm.coef_, lm.intercept_"
   ]
  },
  {
   "cell_type": "code",
   "execution_count": 12,
   "metadata": {},
   "outputs": [
    {
     "name": "stdout",
     "output_type": "stream",
     "text": [
      "taxvaluedollarcnt = 4063469.908 * bathroomcnt + -324865.792\n"
     ]
    }
   ],
   "source": [
    "print('taxvaluedollarcnt = {:.3f} * bathroomcnt + {:.3f}'.format(lm.coef_[0], lm.intercept_))"
   ]
  },
  {
   "cell_type": "code",
   "execution_count": 13,
   "metadata": {},
   "outputs": [
    {
     "data": {
      "text/plain": [
       "<matplotlib.legend.Legend at 0x7fdd9216a520>"
      ]
     },
     "execution_count": 13,
     "metadata": {},
     "output_type": "execute_result"
    },
    {
     "data": {
      "image/png": "[encoded data removed]",
      "text/plain": [
       "<Figure size 720x432 with 1 Axes>"
      ]
     },
     "metadata": {
      "needs_background": "light"
     },
     "output_type": "display_data"
    }
   ],
   "source": [
    "x_pred = np.array([-25, 50]).reshape(-1, 1)\n",
    "y_pred = lm.predict(x_pred)\n",
    "\n",
    "plt.figure(figsize=(10, 6))\n",
    "plt.scatter(trains.bathroomcnt, train.taxvaluedollarcnt, label='actual')\n",
    "plt.scatter(trains.bathroomcnt, lm.predict(trains[['bathroomcnt']]), label='simple_lm')\n",
    "plt.plot(x_pred, y_pred, ls='--', c='black', label='linear model prediction line')\n",
    "plt.hlines(0, -25, 100, ls=':', color='grey')\n",
    "plt.vlines(0, -10, 100, ls=':', color='grey')\n",
    "plt.xlim(-1, 5)\n",
    "plt.ylim(0, 15000000)\n",
    "plt.xlabel('Bedrooms')\n",
    "plt.ylabel('Tax Value')\n",
    "plt.legend()"
   ]
  },
  {
   "cell_type": "code",
   "execution_count": 14,
   "metadata": {},
   "outputs": [
    {
     "name": "stdout",
     "output_type": "stream",
     "text": [
      "For every bathroom, we predict a 4063469.91 dollars increase in tax value.\n"
     ]
    }
   ],
   "source": [
    "# tax value = 0.761 * bathroom + 22.003\n",
    "print(f'For every bathroom, we predict a {lm.coef_[0]:.2f} dollars increase in tax value.')"
   ]
  },
  {
   "cell_type": "code",
   "execution_count": 15,
   "metadata": {},
   "outputs": [],
   "source": [
    "# do the same for finished sqft\n",
    "# X must be 2-d\n",
    "X_train = train[['finishedsquarefeet12']]\n",
    "# y can be 1-d\n",
    "y_train = train.taxvaluedollarcnt\n",
    "\n",
    "# 1. make the thing\n",
    "lm = LinearRegression()\n",
    "# 2. fit the thing\n",
    "lm.fit(X_train, y_train)\n",
    "# 3. use the thing (make predictions)\n",
    "X_validate = validate[['finishedsquarefeet12']]\n",
    "predictions['simple_lm'] = lm.predict(X_validate)"
   ]
  },
  {
   "cell_type": "code",
   "execution_count": 16,
   "metadata": {},
   "outputs": [
    {
     "data": {
      "text/html": [
       "<div>\n",
       "<style scoped>\n",
       "    .dataframe tbody tr th:only-of-type {\n",
       "        vertical-align: middle;\n",
       "    }\n",
       "\n",
       "    .dataframe tbody tr th {\n",
       "        vertical-align: top;\n",
       "    }\n",
       "\n",
       "    .dataframe thead th {\n",
       "        text-align: right;\n",
       "    }\n",
       "</style>\n",
       "<table border=\"1\" class=\"dataframe\">\n",
       "  <thead>\n",
       "    <tr style=\"text-align: right;\">\n",
       "      <th></th>\n",
       "      <th>actual</th>\n",
       "      <th>simple_lm</th>\n",
       "    </tr>\n",
       "  </thead>\n",
       "  <tbody>\n",
       "    <tr>\n",
       "      <th>17073</th>\n",
       "      <td>780176.0</td>\n",
       "      <td>371373.528561</td>\n",
       "    </tr>\n",
       "    <tr>\n",
       "      <th>20295</th>\n",
       "      <td>247558.0</td>\n",
       "      <td>362197.564030</td>\n",
       "    </tr>\n",
       "    <tr>\n",
       "      <th>20557</th>\n",
       "      <td>346957.0</td>\n",
       "      <td>95657.641944</td>\n",
       "    </tr>\n",
       "    <tr>\n",
       "      <th>40782</th>\n",
       "      <td>390842.0</td>\n",
       "      <td>821432.741265</td>\n",
       "    </tr>\n",
       "    <tr>\n",
       "      <th>20266</th>\n",
       "      <td>1082260.0</td>\n",
       "      <td>559699.276790</td>\n",
       "    </tr>\n",
       "  </tbody>\n",
       "</table>\n",
       "</div>"
      ],
      "text/plain": [
       "          actual      simple_lm\n",
       "17073   780176.0  371373.528561\n",
       "20295   247558.0  362197.564030\n",
       "20557   346957.0   95657.641944\n",
       "40782   390842.0  821432.741265\n",
       "20266  1082260.0  559699.276790"
      ]
     },
     "execution_count": 16,
     "metadata": {},
     "output_type": "execute_result"
    }
   ],
   "source": [
    "predictions.head()"
   ]
  },
  {
   "cell_type": "code",
   "execution_count": 17,
   "metadata": {},
   "outputs": [
    {
     "data": {
      "text/plain": [
       "(array([436.95069195]), -314639.0577931771)"
      ]
     },
     "execution_count": 17,
     "metadata": {},
     "output_type": "execute_result"
    }
   ],
   "source": [
    "# EVALUATE THE MODEL\n",
    "lm.coef_, lm.intercept_"
   ]
  },
  {
   "cell_type": "code",
   "execution_count": 18,
   "metadata": {},
   "outputs": [
    {
     "name": "stdout",
     "output_type": "stream",
     "text": [
      "taxvaluedollarcnt = 436.951 * finishedsquarefeet12 + -314639.058\n"
     ]
    }
   ],
   "source": [
    "print('taxvaluedollarcnt = {:.3f} * finishedsquarefeet12 + {:.3f}'.format(lm.coef_[0], lm.intercept_))"
   ]
  },
  {
   "cell_type": "code",
   "execution_count": 19,
   "metadata": {},
   "outputs": [
    {
     "data": {
      "text/plain": [
       "<matplotlib.legend.Legend at 0x7fdd931cca60>"
      ]
     },
     "execution_count": 19,
     "metadata": {},
     "output_type": "execute_result"
    },
    {
     "data": {
      "image/png": "[encoded data removed]",
      "text/plain": [
       "<Figure size 720x432 with 1 Axes>"
      ]
     },
     "metadata": {
      "needs_background": "light"
     },
     "output_type": "display_data"
    }
   ],
   "source": [
    "x_pred = np.array([-25, 100]).reshape(-1, 1)\n",
    "y_pred = lm.predict(x_pred)\n",
    "\n",
    "plt.figure(figsize=(10, 6))\n",
    "plt.scatter(train.finishedsquarefeet12, train.taxvaluedollarcnt, label='actual')\n",
    "plt.scatter(train.finishedsquarefeet12, lm.predict(train[['finishedsquarefeet12']]), label='simple_lm')\n",
    "plt.plot(x_pred, y_pred, ls='--', c='black', label='linear model prediction line')\n",
    "plt.hlines(0, -25, 100, ls=':', color='grey')\n",
    "plt.vlines(0, -10, 100, ls=':', color='grey')\n",
    "\n",
    "plt.xlabel('Sqft')\n",
    "plt.ylabel('Tax Value')\n",
    "plt.legend()"
   ]
  },
  {
   "cell_type": "code",
   "execution_count": 20,
   "metadata": {},
   "outputs": [
    {
     "name": "stdout",
     "output_type": "stream",
     "text": [
      "For every 1 square foot increase, we predict a 436.95 dollars increase in tax value.\n"
     ]
    }
   ],
   "source": [
    "# tax value = 0.761 * sqrft + 22.003\n",
    "print(f'For every 1 square foot increase, we predict a {lm.coef_[0]:.2f} dollars increase in tax value.')"
   ]
  },
  {
   "cell_type": "code",
   "execution_count": 21,
   "metadata": {},
   "outputs": [
    {
     "name": "stdout",
     "output_type": "stream",
     "text": [
      "selected top 2 features: Index(['bedroomcnt', 'finishedsquarefeet12'], dtype='object')\n"
     ]
    },
    {
     "data": {
      "text/html": [
       "<div>\n",
       "<style scoped>\n",
       "    .dataframe tbody tr th:only-of-type {\n",
       "        vertical-align: middle;\n",
       "    }\n",
       "\n",
       "    .dataframe tbody tr th {\n",
       "        vertical-align: top;\n",
       "    }\n",
       "\n",
       "    .dataframe thead th {\n",
       "        text-align: right;\n",
       "    }\n",
       "</style>\n",
       "<table border=\"1\" class=\"dataframe\">\n",
       "  <thead>\n",
       "    <tr style=\"text-align: right;\">\n",
       "      <th></th>\n",
       "      <th>actual</th>\n",
       "      <th>simple_lm</th>\n",
       "      <th>multiple_rfe</th>\n",
       "    </tr>\n",
       "  </thead>\n",
       "  <tbody>\n",
       "    <tr>\n",
       "      <th>17073</th>\n",
       "      <td>780176.0</td>\n",
       "      <td>371373.528561</td>\n",
       "      <td>7.838548e+05</td>\n",
       "    </tr>\n",
       "    <tr>\n",
       "      <th>20295</th>\n",
       "      <td>247558.0</td>\n",
       "      <td>362197.564030</td>\n",
       "      <td>6.103670e+05</td>\n",
       "    </tr>\n",
       "    <tr>\n",
       "      <th>20557</th>\n",
       "      <td>346957.0</td>\n",
       "      <td>95657.641944</td>\n",
       "      <td>4.080377e+05</td>\n",
       "    </tr>\n",
       "    <tr>\n",
       "      <th>40782</th>\n",
       "      <td>390842.0</td>\n",
       "      <td>821432.741265</td>\n",
       "      <td>1.495826e+06</td>\n",
       "    </tr>\n",
       "    <tr>\n",
       "      <th>20266</th>\n",
       "      <td>1082260.0</td>\n",
       "      <td>559699.276790</td>\n",
       "      <td>1.146969e+06</td>\n",
       "    </tr>\n",
       "  </tbody>\n",
       "</table>\n",
       "</div>"
      ],
      "text/plain": [
       "          actual      simple_lm  multiple_rfe\n",
       "17073   780176.0  371373.528561  7.838548e+05\n",
       "20295   247558.0  362197.564030  6.103670e+05\n",
       "20557   346957.0   95657.641944  4.080377e+05\n",
       "40782   390842.0  821432.741265  1.495826e+06\n",
       "20266  1082260.0  559699.276790  1.146969e+06"
      ]
     },
     "execution_count": 21,
     "metadata": {},
     "output_type": "execute_result"
    }
   ],
   "source": [
    "## Multiple Regression + RFE\n",
    "X_train = trains\n",
    "y_train = train.taxvaluedollarcnt\n",
    "X_validate = validates\n",
    "\n",
    "lm = LinearRegression()\n",
    "k = 2\n",
    "\n",
    "# 1. Transform our X\n",
    "rfe = RFE(lm, n_features_to_select=2)\n",
    "rfe.fit(X_train, y_train)\n",
    "print('selected top 2 features:', X_train.columns[rfe.support_])\n",
    "X_train_rfe = rfe.transform(X_train)\n",
    "\n",
    "# 2. Use the transformed x in our model\n",
    "lm.fit(X_train_rfe, y_train)\n",
    "\n",
    "# 3. Make predictions\n",
    "X_validate_rfe = rfe.transform(X_validate)\n",
    "predictions['multiple_rfe'] = lm.predict(X_validate_rfe)\n",
    "\n",
    "predictions.head()"
   ]
  },
  {
   "cell_type": "code",
   "execution_count": 22,
   "metadata": {},
   "outputs": [
    {
     "data": {
      "text/plain": [
       "Index(['bedroomcnt', 'finishedsquarefeet12'], dtype='object')"
      ]
     },
     "execution_count": 22,
     "metadata": {},
     "output_type": "execute_result"
    }
   ],
   "source": [
    "X_train.columns[rfe.support_]"
   ]
  },
  {
   "cell_type": "code",
   "execution_count": 23,
   "metadata": {},
   "outputs": [
    {
     "data": {
      "text/plain": [
       "(array([-1402159.59157922, 11328152.08778812]), 56587.227589886694)"
      ]
     },
     "execution_count": 23,
     "metadata": {},
     "output_type": "execute_result"
    }
   ],
   "source": [
    "lm.coef_, lm.intercept_"
   ]
  },
  {
   "cell_type": "code",
   "execution_count": 24,
   "metadata": {},
   "outputs": [
    {
     "name": "stdout",
     "output_type": "stream",
     "text": [
      "tax value = -1402159.59 x bedrooms + 11328152.09 x square feet + 56587.23\n"
     ]
    }
   ],
   "source": [
    "print(f'tax value = {lm.coef_[0]:.2f} x bedrooms + {lm.coef_[1]:.2f} x square feet + {lm.intercept_:.2f}')"
   ]
  },
  {
   "cell_type": "code",
   "execution_count": 25,
   "metadata": {},
   "outputs": [
    {
     "data": {
      "text/html": [
       "<div>\n",
       "<style scoped>\n",
       "    .dataframe tbody tr th:only-of-type {\n",
       "        vertical-align: middle;\n",
       "    }\n",
       "\n",
       "    .dataframe tbody tr th {\n",
       "        vertical-align: top;\n",
       "    }\n",
       "\n",
       "    .dataframe thead th {\n",
       "        text-align: right;\n",
       "    }\n",
       "</style>\n",
       "<table border=\"1\" class=\"dataframe\">\n",
       "  <thead>\n",
       "    <tr style=\"text-align: right;\">\n",
       "      <th></th>\n",
       "      <th>bathroomcnt</th>\n",
       "      <th>bedroomcnt</th>\n",
       "      <th>finishedsquarefeet12</th>\n",
       "      <th>garagecarcnt</th>\n",
       "      <th>lotsizesquarefeet</th>\n",
       "      <th>bathroomcnt^2</th>\n",
       "      <th>bathroomcnt bedroomcnt</th>\n",
       "      <th>bathroomcnt finishedsquarefeet12</th>\n",
       "      <th>bathroomcnt garagecarcnt</th>\n",
       "      <th>bathroomcnt lotsizesquarefeet</th>\n",
       "      <th>bedroomcnt^2</th>\n",
       "      <th>bedroomcnt finishedsquarefeet12</th>\n",
       "      <th>bedroomcnt garagecarcnt</th>\n",
       "      <th>bedroomcnt lotsizesquarefeet</th>\n",
       "      <th>finishedsquarefeet12^2</th>\n",
       "      <th>finishedsquarefeet12 garagecarcnt</th>\n",
       "      <th>finishedsquarefeet12 lotsizesquarefeet</th>\n",
       "      <th>garagecarcnt^2</th>\n",
       "      <th>garagecarcnt lotsizesquarefeet</th>\n",
       "      <th>lotsizesquarefeet^2</th>\n",
       "    </tr>\n",
       "  </thead>\n",
       "  <tbody>\n",
       "    <tr>\n",
       "      <th>0</th>\n",
       "      <td>0.181818</td>\n",
       "      <td>0.2</td>\n",
       "      <td>0.056970</td>\n",
       "      <td>0.0</td>\n",
       "      <td>0.000984</td>\n",
       "      <td>0.033058</td>\n",
       "      <td>0.036364</td>\n",
       "      <td>0.010358</td>\n",
       "      <td>0.000000</td>\n",
       "      <td>0.000179</td>\n",
       "      <td>0.04</td>\n",
       "      <td>0.011394</td>\n",
       "      <td>0.0</td>\n",
       "      <td>0.000197</td>\n",
       "      <td>0.003246</td>\n",
       "      <td>0.000000</td>\n",
       "      <td>0.000056</td>\n",
       "      <td>0.0</td>\n",
       "      <td>0.000000</td>\n",
       "      <td>9.673410e-07</td>\n",
       "    </tr>\n",
       "    <tr>\n",
       "      <th>1</th>\n",
       "      <td>0.181818</td>\n",
       "      <td>0.3</td>\n",
       "      <td>0.090271</td>\n",
       "      <td>0.0</td>\n",
       "      <td>0.005835</td>\n",
       "      <td>0.033058</td>\n",
       "      <td>0.054545</td>\n",
       "      <td>0.016413</td>\n",
       "      <td>0.000000</td>\n",
       "      <td>0.001061</td>\n",
       "      <td>0.09</td>\n",
       "      <td>0.027081</td>\n",
       "      <td>0.0</td>\n",
       "      <td>0.001750</td>\n",
       "      <td>0.008149</td>\n",
       "      <td>0.000000</td>\n",
       "      <td>0.000527</td>\n",
       "      <td>0.0</td>\n",
       "      <td>0.000000</td>\n",
       "      <td>3.404310e-05</td>\n",
       "    </tr>\n",
       "    <tr>\n",
       "      <th>2</th>\n",
       "      <td>0.272727</td>\n",
       "      <td>0.2</td>\n",
       "      <td>0.077107</td>\n",
       "      <td>0.0</td>\n",
       "      <td>0.001112</td>\n",
       "      <td>0.074380</td>\n",
       "      <td>0.054545</td>\n",
       "      <td>0.021029</td>\n",
       "      <td>0.000000</td>\n",
       "      <td>0.000303</td>\n",
       "      <td>0.04</td>\n",
       "      <td>0.015421</td>\n",
       "      <td>0.0</td>\n",
       "      <td>0.000222</td>\n",
       "      <td>0.005945</td>\n",
       "      <td>0.000000</td>\n",
       "      <td>0.000086</td>\n",
       "      <td>0.0</td>\n",
       "      <td>0.000000</td>\n",
       "      <td>1.236384e-06</td>\n",
       "    </tr>\n",
       "    <tr>\n",
       "      <th>3</th>\n",
       "      <td>0.454545</td>\n",
       "      <td>0.6</td>\n",
       "      <td>0.173295</td>\n",
       "      <td>0.0</td>\n",
       "      <td>0.002332</td>\n",
       "      <td>0.206612</td>\n",
       "      <td>0.272727</td>\n",
       "      <td>0.078770</td>\n",
       "      <td>0.000000</td>\n",
       "      <td>0.001060</td>\n",
       "      <td>0.36</td>\n",
       "      <td>0.103977</td>\n",
       "      <td>0.0</td>\n",
       "      <td>0.001399</td>\n",
       "      <td>0.030031</td>\n",
       "      <td>0.000000</td>\n",
       "      <td>0.000404</td>\n",
       "      <td>0.0</td>\n",
       "      <td>0.000000</td>\n",
       "      <td>5.440335e-06</td>\n",
       "    </tr>\n",
       "    <tr>\n",
       "      <th>4</th>\n",
       "      <td>0.181818</td>\n",
       "      <td>0.3</td>\n",
       "      <td>0.047062</td>\n",
       "      <td>1.0</td>\n",
       "      <td>0.000427</td>\n",
       "      <td>0.033058</td>\n",
       "      <td>0.054545</td>\n",
       "      <td>0.008557</td>\n",
       "      <td>0.181818</td>\n",
       "      <td>0.000078</td>\n",
       "      <td>0.09</td>\n",
       "      <td>0.014119</td>\n",
       "      <td>0.3</td>\n",
       "      <td>0.000128</td>\n",
       "      <td>0.002215</td>\n",
       "      <td>0.047062</td>\n",
       "      <td>0.000020</td>\n",
       "      <td>1.0</td>\n",
       "      <td>0.000427</td>\n",
       "      <td>1.825103e-07</td>\n",
       "    </tr>\n",
       "  </tbody>\n",
       "</table>\n",
       "</div>"
      ],
      "text/plain": [
       "   bathroomcnt  bedroomcnt  finishedsquarefeet12  garagecarcnt  \\\n",
       "0     0.181818         0.2              0.056970           0.0   \n",
       "1     0.181818         0.3              0.090271           0.0   \n",
       "2     0.272727         0.2              0.077107           0.0   \n",
       "3     0.454545         0.6              0.173295           0.0   \n",
       "4     0.181818         0.3              0.047062           1.0   \n",
       "\n",
       "   lotsizesquarefeet  bathroomcnt^2  bathroomcnt bedroomcnt  \\\n",
       "0           0.000984       0.033058                0.036364   \n",
       "1           0.005835       0.033058                0.054545   \n",
       "2           0.001112       0.074380                0.054545   \n",
       "3           0.002332       0.206612                0.272727   \n",
       "4           0.000427       0.033058                0.054545   \n",
       "\n",
       "   bathroomcnt finishedsquarefeet12  bathroomcnt garagecarcnt  \\\n",
       "0                          0.010358                  0.000000   \n",
       "1                          0.016413                  0.000000   \n",
       "2                          0.021029                  0.000000   \n",
       "3                          0.078770                  0.000000   \n",
       "4                          0.008557                  0.181818   \n",
       "\n",
       "   bathroomcnt lotsizesquarefeet  bedroomcnt^2  \\\n",
       "0                       0.000179          0.04   \n",
       "1                       0.001061          0.09   \n",
       "2                       0.000303          0.04   \n",
       "3                       0.001060          0.36   \n",
       "4                       0.000078          0.09   \n",
       "\n",
       "   bedroomcnt finishedsquarefeet12  bedroomcnt garagecarcnt  \\\n",
       "0                         0.011394                      0.0   \n",
       "1                         0.027081                      0.0   \n",
       "2                         0.015421                      0.0   \n",
       "3                         0.103977                      0.0   \n",
       "4                         0.014119                      0.3   \n",
       "\n",
       "   bedroomcnt lotsizesquarefeet  finishedsquarefeet12^2  \\\n",
       "0                      0.000197                0.003246   \n",
       "1                      0.001750                0.008149   \n",
       "2                      0.000222                0.005945   \n",
       "3                      0.001399                0.030031   \n",
       "4                      0.000128                0.002215   \n",
       "\n",
       "   finishedsquarefeet12 garagecarcnt  finishedsquarefeet12 lotsizesquarefeet  \\\n",
       "0                           0.000000                                0.000056   \n",
       "1                           0.000000                                0.000527   \n",
       "2                           0.000000                                0.000086   \n",
       "3                           0.000000                                0.000404   \n",
       "4                           0.047062                                0.000020   \n",
       "\n",
       "   garagecarcnt^2  garagecarcnt lotsizesquarefeet  lotsizesquarefeet^2  \n",
       "0             0.0                        0.000000         9.673410e-07  \n",
       "1             0.0                        0.000000         3.404310e-05  \n",
       "2             0.0                        0.000000         1.236384e-06  \n",
       "3             0.0                        0.000000         5.440335e-06  \n",
       "4             1.0                        0.000427         1.825103e-07  "
      ]
     },
     "execution_count": 25,
     "metadata": {},
     "output_type": "execute_result"
    }
   ],
   "source": [
    "from sklearn.preprocessing import PolynomialFeatures\n",
    "\n",
    "X_train = trains\n",
    "y_train = train.taxvaluedollarcnt\n",
    "X_validate = validates\n",
    "\n",
    "# 1. Generate Polynomial Features\n",
    "poly = PolynomialFeatures(degree=2, include_bias=False, interaction_only=False)\n",
    "poly.fit(X_train)\n",
    "X_train_poly = pd.DataFrame(\n",
    "    poly.transform(X_train),\n",
    "    columns=poly.get_feature_names(X_train.columns),\n",
    "    index=trains.index,\n",
    ")\n",
    "X_train_poly.head()"
   ]
  },
  {
   "cell_type": "code",
   "execution_count": 26,
   "metadata": {},
   "outputs": [],
   "source": [
    "lm = LinearRegression()\n",
    "lm.fit(X_train_poly, y_train)\n",
    "\n",
    "X_validate_poly = poly.transform(X_validate)\n",
    "predictions['polynomial degree 2'] = lm.predict(X_validate_poly)"
   ]
  },
  {
   "cell_type": "code",
   "execution_count": 27,
   "metadata": {},
   "outputs": [
    {
     "data": {
      "text/plain": [
       "garagecarcnt^2                           -3.175046e+17\n",
       "bathroomcnt lotsizesquarefeet            -1.159787e+07\n",
       "garagecarcnt lotsizesquarefeet           -9.414324e+06\n",
       "bathroomcnt bedroomcnt                   -6.390626e+06\n",
       "bedroomcnt finishedsquarefeet12          -4.414706e+06\n",
       "finishedsquarefeet12 lotsizesquarefeet   -4.343520e+06\n",
       "bedroomcnt lotsizesquarefeet             -2.467949e+06\n",
       "finishedsquarefeet12^2                   -1.137210e+06\n",
       "finishedsquarefeet12 garagecarcnt        -7.207877e+05\n",
       "bedroomcnt                               -6.073668e+05\n",
       "bathroomcnt garagecarcnt                 -3.694445e+05\n",
       "lotsizesquarefeet^2                      -6.384885e+04\n",
       "bathroomcnt                               4.384001e+04\n",
       "bedroomcnt garagecarcnt                   3.482165e+05\n",
       "bedroomcnt^2                              1.780033e+06\n",
       "bathroomcnt^2                             2.957882e+06\n",
       "lotsizesquarefeet                         2.997356e+06\n",
       "finishedsquarefeet12                      4.518825e+06\n",
       "bathroomcnt finishedsquarefeet12          2.012840e+07\n",
       "garagecarcnt                              3.175046e+17\n",
       "dtype: float64"
      ]
     },
     "execution_count": 27,
     "metadata": {},
     "output_type": "execute_result"
    }
   ],
   "source": [
    "feature_names = poly.get_feature_names(X_train.columns)\n",
    "pd.Series(lm.coef_, index=feature_names).sort_values()"
   ]
  },
  {
   "cell_type": "code",
   "execution_count": 28,
   "metadata": {},
   "outputs": [
    {
     "data": {
      "text/plain": [
       "finishedsquarefeet12 lotsizesquarefeet   -1.023216e+07\n",
       "garagecarcnt lotsizesquarefeet           -9.232300e+06\n",
       "bathroomcnt lotsizesquarefeet            -7.324907e+06\n",
       "bedroomcnt finishedsquarefeet12          -6.927846e+06\n",
       "bedroomcnt lotsizesquarefeet             -2.722496e+06\n",
       "bathroomcnt bedroomcnt                   -2.118581e+06\n",
       "finishedsquarefeet12 garagecarcnt        -7.263458e+05\n",
       "bathroomcnt garagecarcnt                 -4.043708e+05\n",
       "bathroomcnt                              -2.220305e+05\n",
       "bedroomcnt                               -1.134502e+05\n",
       "garagecarcnt                              2.713878e+04\n",
       "bedroomcnt garagecarcnt                   3.908259e+05\n",
       "lotsizesquarefeet                         2.637194e+06\n",
       "finishedsquarefeet12                      4.615134e+06\n",
       "bathroomcnt finishedsquarefeet12          2.237322e+07\n",
       "dtype: float64"
      ]
     },
     "execution_count": 28,
     "metadata": {},
     "output_type": "execute_result"
    }
   ],
   "source": [
    "poly = PolynomialFeatures(degree=2, include_bias=False, interaction_only=True)\n",
    "poly.fit(X_train)\n",
    "X_train_poly = pd.DataFrame(\n",
    "    poly.transform(X_train),\n",
    "    columns=poly.get_feature_names(X_train.columns),\n",
    "    index=trains.index,\n",
    ")\n",
    "lm = LinearRegression()\n",
    "lm.fit(X_train_poly, y_train)\n",
    "\n",
    "X_validate_poly = poly.transform(X_validate)\n",
    "predictions['polynomial only interaction'] = lm.predict(X_validate_poly)\n",
    "\n",
    "pd.Series(lm.coef_, index=poly.get_feature_names(X_train.columns)).sort_values()"
   ]
  },
  {
   "cell_type": "code",
   "execution_count": 29,
   "metadata": {},
   "outputs": [],
   "source": [
    "# Evaluate the model with baselone\n",
    "# add a baseline model\n",
    "predictions['baseline'] = train.taxvaluedollarcnt.mean()"
   ]
  },
  {
   "cell_type": "code",
   "execution_count": 30,
   "metadata": {},
   "outputs": [
    {
     "data": {
      "text/html": [
       "<div>\n",
       "<style scoped>\n",
       "    .dataframe tbody tr th:only-of-type {\n",
       "        vertical-align: middle;\n",
       "    }\n",
       "\n",
       "    .dataframe tbody tr th {\n",
       "        vertical-align: top;\n",
       "    }\n",
       "\n",
       "    .dataframe thead th {\n",
       "        text-align: right;\n",
       "    }\n",
       "</style>\n",
       "<table border=\"1\" class=\"dataframe\">\n",
       "  <thead>\n",
       "    <tr style=\"text-align: right;\">\n",
       "      <th></th>\n",
       "      <th>actual</th>\n",
       "      <th>simple_lm</th>\n",
       "      <th>multiple_rfe</th>\n",
       "      <th>polynomial degree 2</th>\n",
       "      <th>polynomial only interaction</th>\n",
       "      <th>baseline</th>\n",
       "    </tr>\n",
       "  </thead>\n",
       "  <tbody>\n",
       "    <tr>\n",
       "      <th>17073</th>\n",
       "      <td>780176.0</td>\n",
       "      <td>371373.528561</td>\n",
       "      <td>7.838548e+05</td>\n",
       "      <td>8.095937e+05</td>\n",
       "      <td>7.777516e+05</td>\n",
       "      <td>522009.667781</td>\n",
       "    </tr>\n",
       "    <tr>\n",
       "      <th>20295</th>\n",
       "      <td>247558.0</td>\n",
       "      <td>362197.564030</td>\n",
       "      <td>6.103670e+05</td>\n",
       "      <td>4.946798e+05</td>\n",
       "      <td>4.730645e+05</td>\n",
       "      <td>522009.667781</td>\n",
       "    </tr>\n",
       "    <tr>\n",
       "      <th>20557</th>\n",
       "      <td>346957.0</td>\n",
       "      <td>95657.641944</td>\n",
       "      <td>4.080377e+05</td>\n",
       "      <td>3.496894e+05</td>\n",
       "      <td>3.496456e+05</td>\n",
       "      <td>522009.667781</td>\n",
       "    </tr>\n",
       "    <tr>\n",
       "      <th>40782</th>\n",
       "      <td>390842.0</td>\n",
       "      <td>821432.741265</td>\n",
       "      <td>1.495826e+06</td>\n",
       "      <td>1.156090e+06</td>\n",
       "      <td>1.169001e+06</td>\n",
       "      <td>522009.667781</td>\n",
       "    </tr>\n",
       "    <tr>\n",
       "      <th>20266</th>\n",
       "      <td>1082260.0</td>\n",
       "      <td>559699.276790</td>\n",
       "      <td>1.146969e+06</td>\n",
       "      <td>8.299040e+05</td>\n",
       "      <td>8.405265e+05</td>\n",
       "      <td>522009.667781</td>\n",
       "    </tr>\n",
       "  </tbody>\n",
       "</table>\n",
       "</div>"
      ],
      "text/plain": [
       "          actual      simple_lm  multiple_rfe  polynomial degree 2  \\\n",
       "17073   780176.0  371373.528561  7.838548e+05         8.095937e+05   \n",
       "20295   247558.0  362197.564030  6.103670e+05         4.946798e+05   \n",
       "20557   346957.0   95657.641944  4.080377e+05         3.496894e+05   \n",
       "40782   390842.0  821432.741265  1.495826e+06         1.156090e+06   \n",
       "20266  1082260.0  559699.276790  1.146969e+06         8.299040e+05   \n",
       "\n",
       "       polynomial only interaction       baseline  \n",
       "17073                 7.777516e+05  522009.667781  \n",
       "20295                 4.730645e+05  522009.667781  \n",
       "20557                 3.496456e+05  522009.667781  \n",
       "40782                 1.169001e+06  522009.667781  \n",
       "20266                 8.405265e+05  522009.667781  "
      ]
     },
     "execution_count": 30,
     "metadata": {},
     "output_type": "execute_result"
    }
   ],
   "source": [
    "predictions.head()"
   ]
  },
  {
   "cell_type": "code",
   "execution_count": 31,
   "metadata": {},
   "outputs": [
    {
     "data": {
      "text/plain": [
       "actual                         0.000000e+00\n",
       "simple_lm                      3.681490e+11\n",
       "multiple_rfe                   7.092354e+11\n",
       "polynomial degree 2            5.938836e+11\n",
       "polynomial only interaction    6.083831e+11\n",
       "baseline                       5.724992e+11\n",
       "dtype: float64"
      ]
     },
     "execution_count": 31,
     "metadata": {},
     "output_type": "execute_result"
    }
   ],
   "source": [
    "def calculate_mse(y_predicted):\n",
    "    return mean_squared_error(predictions.actual, y_predicted)\n",
    "\n",
    "predictions.apply(calculate_mse)"
   ]
  },
  {
   "cell_type": "code",
   "execution_count": 32,
   "metadata": {},
   "outputs": [
    {
     "data": {
      "text/plain": [
       "LinearRegression()"
      ]
     },
     "execution_count": 32,
     "metadata": {},
     "output_type": "execute_result"
    }
   ],
   "source": [
    "# re-create our polynomial model\n",
    "X_train = trains\n",
    "y_train = train.taxvaluedollarcnt\n",
    "\n",
    "poly = PolynomialFeatures(degree=2, include_bias=False, interaction_only=False)\n",
    "poly.fit(X_train)\n",
    "X_train_poly = pd.DataFrame(\n",
    "    poly.transform(X_train),\n",
    "    columns=poly.get_feature_names(X_train.columns),\n",
    "    index=trains.index,\n",
    ")\n",
    "\n",
    "lm = LinearRegression()\n",
    "lm.fit(X_train_poly, y_train)"
   ]
  },
  {
   "cell_type": "code",
   "execution_count": 33,
   "metadata": {},
   "outputs": [],
   "source": [
    "X_test = tests\n",
    "X_test_poly = poly.transform(X_test)\n",
    "\n",
    "test_predictions = lm.predict(X_test_poly)\n",
    "test_actual = test.taxvaluedollarcnt"
   ]
  },
  {
   "cell_type": "code",
   "execution_count": 34,
   "metadata": {},
   "outputs": [
    {
     "data": {
      "text/plain": [
       "320388447896.4197"
      ]
     },
     "execution_count": 34,
     "metadata": {},
     "output_type": "execute_result"
    }
   ],
   "source": [
    "mean_squared_error(test_actual, test_predictions)"
   ]
  },
  {
   "cell_type": "code",
   "execution_count": null,
   "metadata": {},
   "outputs": [],
   "source": []
  }
 ],
 "metadata": {
  "interpreter": {
   "hash": "3067ead486e059ec00ffe7555bdb889e6e264a24dc711bf108106cc7baee8d5d"
  },
  "kernelspec": {
   "display_name": "Python 3.9.7 ('base')",
   "language": "python",
   "name": "python3"
  },
  "language_info": {
   "codemirror_mode": {
    "name": "ipython",
    "version": 3
   },
   "file_extension": ".py",
   "mimetype": "text/x-python",
   "name": "python",
   "nbconvert_exporter": "python",
   "pygments_lexer": "ipython3",
   "version": "3.9.7"
  },
  "orig_nbformat": 4
 },
 "nbformat": 4,
 "nbformat_minor": 2
}
