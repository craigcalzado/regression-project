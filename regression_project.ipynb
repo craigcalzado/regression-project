{
 "cells": [
  {
   "cell_type": "code",
   "execution_count": 1,
   "metadata": {},
   "outputs": [],
   "source": [
    "import wrangle\n",
    "import f_engineer\n",
    "import pandas as pd\n",
    "import numpy as np\n",
    "from scipy.stats import pearsonr\n",
    "import seaborn as sns\n",
    "import matplotlib.pyplot as plt\n",
    "from sklearn.linear_model import LinearRegression"
   ]
  },
  {
   "cell_type": "code",
   "execution_count": 39,
   "metadata": {},
   "outputs": [
    {
     "name": "stdout",
     "output_type": "stream",
     "text": [
      "Let me get that for you...\n"
     ]
    },
    {
     "data": {
      "text/html": [
       "<div>\n",
       "<style scoped>\n",
       "    .dataframe tbody tr th:only-of-type {\n",
       "        vertical-align: middle;\n",
       "    }\n",
       "\n",
       "    .dataframe tbody tr th {\n",
       "        vertical-align: top;\n",
       "    }\n",
       "\n",
       "    .dataframe thead th {\n",
       "        text-align: right;\n",
       "    }\n",
       "</style>\n",
       "<table border=\"1\" class=\"dataframe\">\n",
       "  <thead>\n",
       "    <tr style=\"text-align: right;\">\n",
       "      <th></th>\n",
       "      <th>parcelid</th>\n",
       "      <th>bathroomcnt</th>\n",
       "      <th>bedroomcnt</th>\n",
       "      <th>finishedsquarefeet12</th>\n",
       "      <th>fips</th>\n",
       "      <th>garagecarcnt</th>\n",
       "      <th>latitude</th>\n",
       "      <th>longitude</th>\n",
       "      <th>lotsizesquarefeet</th>\n",
       "      <th>yearbuilt</th>\n",
       "      <th>taxvaluedollarcnt</th>\n",
       "      <th>assessmentyear</th>\n",
       "      <th>logerror</th>\n",
       "      <th>transactiondate</th>\n",
       "    </tr>\n",
       "  </thead>\n",
       "  <tbody>\n",
       "    <tr>\n",
       "      <th>0</th>\n",
       "      <td>11452343</td>\n",
       "      <td>3.0</td>\n",
       "      <td>4.0</td>\n",
       "      <td>2504.0</td>\n",
       "      <td>6037.0</td>\n",
       "      <td>NaN</td>\n",
       "      <td>33871723.0</td>\n",
       "      <td>-118318565.0</td>\n",
       "      <td>6009.0</td>\n",
       "      <td>1979.0</td>\n",
       "      <td>262584.0</td>\n",
       "      <td>2016.0</td>\n",
       "      <td>0.015371</td>\n",
       "      <td>2017-01-10</td>\n",
       "    </tr>\n",
       "    <tr>\n",
       "      <th>1</th>\n",
       "      <td>12967847</td>\n",
       "      <td>3.0</td>\n",
       "      <td>4.0</td>\n",
       "      <td>2077.0</td>\n",
       "      <td>6037.0</td>\n",
       "      <td>NaN</td>\n",
       "      <td>34162881.0</td>\n",
       "      <td>-117993177.0</td>\n",
       "      <td>11421.0</td>\n",
       "      <td>1979.0</td>\n",
       "      <td>950681.0</td>\n",
       "      <td>2016.0</td>\n",
       "      <td>-0.020910</td>\n",
       "      <td>2017-01-10</td>\n",
       "    </tr>\n",
       "    <tr>\n",
       "      <th>2</th>\n",
       "      <td>11765917</td>\n",
       "      <td>2.0</td>\n",
       "      <td>4.0</td>\n",
       "      <td>1722.0</td>\n",
       "      <td>6037.0</td>\n",
       "      <td>NaN</td>\n",
       "      <td>33998565.0</td>\n",
       "      <td>-118275430.0</td>\n",
       "      <td>5410.0</td>\n",
       "      <td>1909.0</td>\n",
       "      <td>207351.0</td>\n",
       "      <td>2016.0</td>\n",
       "      <td>0.043068</td>\n",
       "      <td>2017-01-10</td>\n",
       "    </tr>\n",
       "    <tr>\n",
       "      <th>3</th>\n",
       "      <td>13040720</td>\n",
       "      <td>2.0</td>\n",
       "      <td>3.0</td>\n",
       "      <td>1242.0</td>\n",
       "      <td>6037.0</td>\n",
       "      <td>NaN</td>\n",
       "      <td>34111289.0</td>\n",
       "      <td>-117852886.0</td>\n",
       "      <td>8328.0</td>\n",
       "      <td>1962.0</td>\n",
       "      <td>125553.0</td>\n",
       "      <td>2016.0</td>\n",
       "      <td>0.005903</td>\n",
       "      <td>2017-01-10</td>\n",
       "    </tr>\n",
       "    <tr>\n",
       "      <th>4</th>\n",
       "      <td>12402225</td>\n",
       "      <td>2.0</td>\n",
       "      <td>5.0</td>\n",
       "      <td>2359.0</td>\n",
       "      <td>6037.0</td>\n",
       "      <td>NaN</td>\n",
       "      <td>33881815.0</td>\n",
       "      <td>-118043413.0</td>\n",
       "      <td>4844.0</td>\n",
       "      <td>1966.0</td>\n",
       "      <td>708879.0</td>\n",
       "      <td>2016.0</td>\n",
       "      <td>-0.056877</td>\n",
       "      <td>2017-01-10</td>\n",
       "    </tr>\n",
       "  </tbody>\n",
       "</table>\n",
       "</div>"
      ],
      "text/plain": [
       "   parcelid  bathroomcnt  bedroomcnt  finishedsquarefeet12    fips  \\\n",
       "0  11452343          3.0         4.0                2504.0  6037.0   \n",
       "1  12967847          3.0         4.0                2077.0  6037.0   \n",
       "2  11765917          2.0         4.0                1722.0  6037.0   \n",
       "3  13040720          2.0         3.0                1242.0  6037.0   \n",
       "4  12402225          2.0         5.0                2359.0  6037.0   \n",
       "\n",
       "   garagecarcnt    latitude    longitude  lotsizesquarefeet  yearbuilt  \\\n",
       "0           NaN  33871723.0 -118318565.0             6009.0     1979.0   \n",
       "1           NaN  34162881.0 -117993177.0            11421.0     1979.0   \n",
       "2           NaN  33998565.0 -118275430.0             5410.0     1909.0   \n",
       "3           NaN  34111289.0 -117852886.0             8328.0     1962.0   \n",
       "4           NaN  33881815.0 -118043413.0             4844.0     1966.0   \n",
       "\n",
       "   taxvaluedollarcnt  assessmentyear  logerror transactiondate  \n",
       "0           262584.0          2016.0  0.015371      2017-01-10  \n",
       "1           950681.0          2016.0 -0.020910      2017-01-10  \n",
       "2           207351.0          2016.0  0.043068      2017-01-10  \n",
       "3           125553.0          2016.0  0.005903      2017-01-10  \n",
       "4           708879.0          2016.0 -0.056877      2017-01-10  "
      ]
     },
     "execution_count": 39,
     "metadata": {},
     "output_type": "execute_result"
    }
   ],
   "source": [
    "df = wrangle.get_zillow_project_data()\n",
    "df.head()"
   ]
  },
  {
   "cell_type": "code",
   "execution_count": 3,
   "metadata": {},
   "outputs": [
    {
     "name": "stdout",
     "output_type": "stream",
     "text": [
      "<class 'pandas.core.frame.DataFrame'>\n",
      "Int64Index: 51834 entries, 0 to 52441\n",
      "Data columns (total 13 columns):\n",
      " #   Column                Non-Null Count  Dtype  \n",
      "---  ------                --------------  -----  \n",
      " 0   bathroomcnt           51834 non-null  float64\n",
      " 1   bedroomcnt            51834 non-null  float64\n",
      " 2   finishedsquarefeet12  51834 non-null  float64\n",
      " 3   fips                  51834 non-null  float64\n",
      " 4   garagecarcnt          51834 non-null  int64  \n",
      " 5   latitude              51834 non-null  float64\n",
      " 6   longitude             51834 non-null  float64\n",
      " 7   lotsizesquarefeet     51834 non-null  float64\n",
      " 8   yearbuilt             51834 non-null  float64\n",
      " 9   taxvaluedollarcnt     51834 non-null  float64\n",
      " 10  assessmentyear        51834 non-null  float64\n",
      " 11  logerror              51834 non-null  float64\n",
      " 12  transactiondate       51834 non-null  object \n",
      "dtypes: float64(11), int64(1), object(1)\n",
      "memory usage: 5.5+ MB\n"
     ]
    }
   ],
   "source": [
    "df = wrangle.zillow_proj_prep(df)\n",
    "df.info()\n"
   ]
  },
  {
   "cell_type": "code",
   "execution_count": 4,
   "metadata": {},
   "outputs": [
    {
     "data": {
      "text/plain": [
       "bathroomcnt             0\n",
       "bedroomcnt              0\n",
       "finishedsquarefeet12    0\n",
       "fips                    0\n",
       "garagecarcnt            0\n",
       "latitude                0\n",
       "longitude               0\n",
       "lotsizesquarefeet       0\n",
       "yearbuilt               0\n",
       "taxvaluedollarcnt       0\n",
       "assessmentyear          0\n",
       "logerror                0\n",
       "transactiondate         0\n",
       "dtype: int64"
      ]
     },
     "execution_count": 4,
     "metadata": {},
     "output_type": "execute_result"
    }
   ],
   "source": [
    "# check data for nulls\n",
    "df.isnull().sum()"
   ]
  },
  {
   "cell_type": "code",
   "execution_count": 5,
   "metadata": {},
   "outputs": [
    {
     "data": {
      "text/html": [
       "<div>\n",
       "<style scoped>\n",
       "    .dataframe tbody tr th:only-of-type {\n",
       "        vertical-align: middle;\n",
       "    }\n",
       "\n",
       "    .dataframe tbody tr th {\n",
       "        vertical-align: top;\n",
       "    }\n",
       "\n",
       "    .dataframe thead th {\n",
       "        text-align: right;\n",
       "    }\n",
       "</style>\n",
       "<table border=\"1\" class=\"dataframe\">\n",
       "  <thead>\n",
       "    <tr style=\"text-align: right;\">\n",
       "      <th></th>\n",
       "      <th>bathroomcnt</th>\n",
       "      <th>bedroomcnt</th>\n",
       "      <th>finishedsquarefeet12</th>\n",
       "      <th>fips</th>\n",
       "      <th>garagecarcnt</th>\n",
       "      <th>latitude</th>\n",
       "      <th>longitude</th>\n",
       "      <th>lotsizesquarefeet</th>\n",
       "      <th>yearbuilt</th>\n",
       "      <th>taxvaluedollarcnt</th>\n",
       "      <th>assessmentyear</th>\n",
       "      <th>logerror</th>\n",
       "      <th>transactiondate</th>\n",
       "    </tr>\n",
       "  </thead>\n",
       "  <tbody>\n",
       "    <tr>\n",
       "      <th>0</th>\n",
       "      <td>3.0</td>\n",
       "      <td>4.0</td>\n",
       "      <td>2504.0</td>\n",
       "      <td>6037.0</td>\n",
       "      <td>0</td>\n",
       "      <td>33871723.0</td>\n",
       "      <td>-118318565.0</td>\n",
       "      <td>6009.0</td>\n",
       "      <td>1979.0</td>\n",
       "      <td>262584.0</td>\n",
       "      <td>2016.0</td>\n",
       "      <td>0.015371</td>\n",
       "      <td>2017-01-10</td>\n",
       "    </tr>\n",
       "    <tr>\n",
       "      <th>1</th>\n",
       "      <td>3.0</td>\n",
       "      <td>4.0</td>\n",
       "      <td>2077.0</td>\n",
       "      <td>6037.0</td>\n",
       "      <td>0</td>\n",
       "      <td>34162881.0</td>\n",
       "      <td>-117993177.0</td>\n",
       "      <td>11421.0</td>\n",
       "      <td>1979.0</td>\n",
       "      <td>950681.0</td>\n",
       "      <td>2016.0</td>\n",
       "      <td>-0.020910</td>\n",
       "      <td>2017-01-10</td>\n",
       "    </tr>\n",
       "    <tr>\n",
       "      <th>2</th>\n",
       "      <td>2.0</td>\n",
       "      <td>4.0</td>\n",
       "      <td>1722.0</td>\n",
       "      <td>6037.0</td>\n",
       "      <td>0</td>\n",
       "      <td>33998565.0</td>\n",
       "      <td>-118275430.0</td>\n",
       "      <td>5410.0</td>\n",
       "      <td>1909.0</td>\n",
       "      <td>207351.0</td>\n",
       "      <td>2016.0</td>\n",
       "      <td>0.043068</td>\n",
       "      <td>2017-01-10</td>\n",
       "    </tr>\n",
       "    <tr>\n",
       "      <th>3</th>\n",
       "      <td>2.0</td>\n",
       "      <td>3.0</td>\n",
       "      <td>1242.0</td>\n",
       "      <td>6037.0</td>\n",
       "      <td>0</td>\n",
       "      <td>34111289.0</td>\n",
       "      <td>-117852886.0</td>\n",
       "      <td>8328.0</td>\n",
       "      <td>1962.0</td>\n",
       "      <td>125553.0</td>\n",
       "      <td>2016.0</td>\n",
       "      <td>0.005903</td>\n",
       "      <td>2017-01-10</td>\n",
       "    </tr>\n",
       "    <tr>\n",
       "      <th>4</th>\n",
       "      <td>2.0</td>\n",
       "      <td>5.0</td>\n",
       "      <td>2359.0</td>\n",
       "      <td>6037.0</td>\n",
       "      <td>0</td>\n",
       "      <td>33881815.0</td>\n",
       "      <td>-118043413.0</td>\n",
       "      <td>4844.0</td>\n",
       "      <td>1966.0</td>\n",
       "      <td>708879.0</td>\n",
       "      <td>2016.0</td>\n",
       "      <td>-0.056877</td>\n",
       "      <td>2017-01-10</td>\n",
       "    </tr>\n",
       "  </tbody>\n",
       "</table>\n",
       "</div>"
      ],
      "text/plain": [
       "   bathroomcnt  bedroomcnt  finishedsquarefeet12    fips  garagecarcnt  \\\n",
       "0          3.0         4.0                2504.0  6037.0             0   \n",
       "1          3.0         4.0                2077.0  6037.0             0   \n",
       "2          2.0         4.0                1722.0  6037.0             0   \n",
       "3          2.0         3.0                1242.0  6037.0             0   \n",
       "4          2.0         5.0                2359.0  6037.0             0   \n",
       "\n",
       "     latitude    longitude  lotsizesquarefeet  yearbuilt  taxvaluedollarcnt  \\\n",
       "0  33871723.0 -118318565.0             6009.0     1979.0           262584.0   \n",
       "1  34162881.0 -117993177.0            11421.0     1979.0           950681.0   \n",
       "2  33998565.0 -118275430.0             5410.0     1909.0           207351.0   \n",
       "3  34111289.0 -117852886.0             8328.0     1962.0           125553.0   \n",
       "4  33881815.0 -118043413.0             4844.0     1966.0           708879.0   \n",
       "\n",
       "   assessmentyear  logerror transactiondate  \n",
       "0          2016.0  0.015371      2017-01-10  \n",
       "1          2016.0 -0.020910      2017-01-10  \n",
       "2          2016.0  0.043068      2017-01-10  \n",
       "3          2016.0  0.005903      2017-01-10  \n",
       "4          2016.0 -0.056877      2017-01-10  "
      ]
     },
     "execution_count": 5,
     "metadata": {},
     "output_type": "execute_result"
    }
   ],
   "source": [
    "df.head()"
   ]
  },
  {
   "cell_type": "code",
   "execution_count": 6,
   "metadata": {},
   "outputs": [],
   "source": [
    "# create a new dataframe with only longitude and latitude columns\n",
    "location_data = df.loc[:, ['longitude', 'latitude']]\n",
    "# drop longitude and latitude columns from original dataframe\n",
    "df.drop(columns=['longitude', 'latitude'], inplace=True)"
   ]
  },
  {
   "cell_type": "code",
   "execution_count": 38,
   "metadata": {},
   "outputs": [
    {
     "name": "stdout",
     "output_type": "stream",
     "text": [
      "(29026, 11)\n",
      "(12441, 11)\n",
      "(10367, 11)\n"
     ]
    }
   ],
   "source": [
    "# split the dataframe into train, validate, and test\n",
    "train, validate, test = wrangle.split_dataframe(df)\n",
    "print(train.shape)\n",
    "print(validate.shape)\n",
    "print(test.shape)"
   ]
  },
  {
   "cell_type": "code",
   "execution_count": 8,
   "metadata": {},
   "outputs": [
    {
     "data": {
      "text/plain": [
       "taxvaluedollarcnt       1.000000\n",
       "finishedsquarefeet12    0.623823\n",
       "bathroomcnt             0.534441\n",
       "bedroomcnt              0.279657\n",
       "yearbuilt               0.186994\n",
       "garagecarcnt            0.059343\n",
       "fips                    0.024587\n",
       "lotsizesquarefeet       0.022692\n",
       "logerror               -0.011170\n",
       "assessmentyear               NaN\n",
       "Name: taxvaluedollarcnt, dtype: float64"
      ]
     },
     "execution_count": 8,
     "metadata": {},
     "output_type": "execute_result"
    }
   ],
   "source": [
    "# identify the columns correlated with the target\n",
    "corr_matrix = train.corr()\n",
    "corr_matrix['taxvaluedollarcnt'].sort_values(ascending=False)"
   ]
  },
  {
   "cell_type": "code",
   "execution_count": 22,
   "metadata": {},
   "outputs": [],
   "source": [
    "# create X and y for train\n",
    "# X_train should have only finishedsquarefeet12, bathroomcnt, bedroomcnt \n",
    "# y_train should have only taxvaluedollarcnt \n",
    "X_train1 = train[['finishedsquarefeet12']]\n",
    "X_train2 = train[['bathroomcnt']]\n",
    "X_train3 = train[['bedroomcnt']]\n",
    "y_train = train['taxvaluedollarcnt']"
   ]
  },
  {
   "cell_type": "code",
   "execution_count": 10,
   "metadata": {},
   "outputs": [],
   "source": [
    "# scale X_train\n",
    "# X_train_scaled = f_engineer.scale_minmax(X_train)"
   ]
  },
  {
   "cell_type": "code",
   "execution_count": 11,
   "metadata": {},
   "outputs": [
    {
     "name": "stdout",
     "output_type": "stream",
     "text": [
      "The correlation coefficient(r) is 0.8470745954388398 and the p-value is 0.0\n"
     ]
    }
   ],
   "source": [
    "# r, p_value = pearsonr(X_train['bathroomcnt'], X_train['finishedsquarefeet12'])\n",
    "# print(f\"The correlation coefficient(r) is {r} and the p-value is {p_value}\")"
   ]
  },
  {
   "cell_type": "code",
   "execution_count": 12,
   "metadata": {},
   "outputs": [
    {
     "data": {
      "image/png": "[encoded data removed]",
      "text/plain": [
       "<Figure size 360x360 with 1 Axes>"
      ]
     },
     "metadata": {
      "needs_background": "light"
     },
     "output_type": "display_data"
    }
   ],
   "source": [
    "# # create a regression line scatter plot\n",
    "# sns.lmplot(x='bathroomcnt', y='finishedsquarefeet12', data=X_train_scaled, line_kws={'color':'red'})\n",
    "# plt.show()"
   ]
  },
  {
   "cell_type": "code",
   "execution_count": 13,
   "metadata": {},
   "outputs": [],
   "source": [
    "predictions = pd.DataFrame({\n",
    "    'actual': validate.taxvaluedollarcnt\n",
    "})"
   ]
  },
  {
   "cell_type": "code",
   "execution_count": 23,
   "metadata": {},
   "outputs": [],
   "source": [
    "\n",
    "# 1. make the thing\n",
    "lm = LinearRegression()\n",
    "# 2. fit the thing\n",
    "lm.fit(X_train1, y_train)\n",
    "# 3. use the thing (make predictions)\n",
    "X_validate = validate[['finishedsquarefeet12']]\n",
    "predictions['simple_lm'] = lm.predict(X_validate)"
   ]
  },
  {
   "cell_type": "code",
   "execution_count": 24,
   "metadata": {},
   "outputs": [
    {
     "data": {
      "text/html": [
       "<div>\n",
       "<style scoped>\n",
       "    .dataframe tbody tr th:only-of-type {\n",
       "        vertical-align: middle;\n",
       "    }\n",
       "\n",
       "    .dataframe tbody tr th {\n",
       "        vertical-align: top;\n",
       "    }\n",
       "\n",
       "    .dataframe thead th {\n",
       "        text-align: right;\n",
       "    }\n",
       "</style>\n",
       "<table border=\"1\" class=\"dataframe\">\n",
       "  <thead>\n",
       "    <tr style=\"text-align: right;\">\n",
       "      <th></th>\n",
       "      <th>actual</th>\n",
       "      <th>simple_lm</th>\n",
       "    </tr>\n",
       "  </thead>\n",
       "  <tbody>\n",
       "    <tr>\n",
       "      <th>17073</th>\n",
       "      <td>780176.0</td>\n",
       "      <td>371373.528561</td>\n",
       "    </tr>\n",
       "    <tr>\n",
       "      <th>20295</th>\n",
       "      <td>247558.0</td>\n",
       "      <td>362197.564030</td>\n",
       "    </tr>\n",
       "    <tr>\n",
       "      <th>20557</th>\n",
       "      <td>346957.0</td>\n",
       "      <td>95657.641944</td>\n",
       "    </tr>\n",
       "    <tr>\n",
       "      <th>40782</th>\n",
       "      <td>390842.0</td>\n",
       "      <td>821432.741265</td>\n",
       "    </tr>\n",
       "    <tr>\n",
       "      <th>20266</th>\n",
       "      <td>1082260.0</td>\n",
       "      <td>559699.276790</td>\n",
       "    </tr>\n",
       "  </tbody>\n",
       "</table>\n",
       "</div>"
      ],
      "text/plain": [
       "          actual      simple_lm\n",
       "17073   780176.0  371373.528561\n",
       "20295   247558.0  362197.564030\n",
       "20557   346957.0   95657.641944\n",
       "40782   390842.0  821432.741265\n",
       "20266  1082260.0  559699.276790"
      ]
     },
     "execution_count": 24,
     "metadata": {},
     "output_type": "execute_result"
    }
   ],
   "source": [
    "predictions.head()"
   ]
  },
  {
   "cell_type": "code",
   "execution_count": 25,
   "metadata": {},
   "outputs": [
    {
     "data": {
      "text/plain": [
       "(array([436.95069195]), -314639.0577931771)"
      ]
     },
     "execution_count": 25,
     "metadata": {},
     "output_type": "execute_result"
    }
   ],
   "source": [
    "lm.coef_, lm.intercept_"
   ]
  },
  {
   "cell_type": "code",
   "execution_count": 26,
   "metadata": {},
   "outputs": [
    {
     "name": "stdout",
     "output_type": "stream",
     "text": [
      "taxvaluedollarcnt = 436.951 * finishedsquarefeet12 + -314639.058\n"
     ]
    }
   ],
   "source": [
    "print('taxvaluedollarcnt = {:.3f} * finishedsquarefeet12 + {:.3f}'.format(lm.coef_[0], lm.intercept_))"
   ]
  },
  {
   "cell_type": "code",
   "execution_count": 29,
   "metadata": {},
   "outputs": [
    {
     "data": {
      "text/plain": [
       "<matplotlib.legend.Legend at 0x7f8aa56fcac0>"
      ]
     },
     "execution_count": 29,
     "metadata": {},
     "output_type": "execute_result"
    },
    {
     "data": {
      "image/png": "[encoded data removed]",
      "text/plain": [
       "<Figure size 1152x648 with 1 Axes>"
      ]
     },
     "metadata": {
      "needs_background": "light"
     },
     "output_type": "display_data"
    }
   ],
   "source": [
    "x_pred = np.array([-25, 100]).reshape(-1, 1)\n",
    "y_pred = lm.predict(x_pred)\n",
    "\n",
    "plt.figure(figsize=(16, 9))\n",
    "plt.scatter(train.finishedsquarefeet12, train.taxvaluedollarcnt, label='actual')\n",
    "plt.scatter(train.finishedsquarefeet12, lm.predict(train[['finishedsquarefeet12']]), label='simple_lm')\n",
    "plt.plot(x_pred, y_pred, ls='--', c='black', label='linear model prediction line')\n",
    "plt.hlines(0, -25, 100, ls=':', color='grey')\n",
    "plt.vlines(0, -10, 100, ls=':', color='grey')\n",
    "\n",
    "plt.xlabel('Tax Value')\n",
    "plt.ylabel('Square Feet')\n",
    "plt.legend()"
   ]
  },
  {
   "cell_type": "code",
   "execution_count": 30,
   "metadata": {},
   "outputs": [],
   "source": [
    "# repeat the above steps for the other columns\n",
    "# 2. fit the thing\n",
    "lm.fit(X_train2, y_train)\n",
    "# 3. use the thing (make predictions)\n",
    "X_validate = validate[['bathroomcnt']]\n",
    "predictions['simple_lm'] = lm.predict(X_validate)"
   ]
  },
  {
   "cell_type": "code",
   "execution_count": 31,
   "metadata": {},
   "outputs": [
    {
     "data": {
      "text/plain": [
       "(array([369406.35523233]), -324865.79202180845)"
      ]
     },
     "execution_count": 31,
     "metadata": {},
     "output_type": "execute_result"
    }
   ],
   "source": [
    "lm.coef_, lm.intercept_"
   ]
  },
  {
   "cell_type": "code",
   "execution_count": 32,
   "metadata": {},
   "outputs": [
    {
     "name": "stdout",
     "output_type": "stream",
     "text": [
      "taxvaluedollarcnt = 369406.355 * bathroomcnt + -324865.792\n"
     ]
    }
   ],
   "source": [
    "print('taxvaluedollarcnt = {:.3f} * bathroomcnt + {:.3f}'.format(lm.coef_[0], lm.intercept_))"
   ]
  },
  {
   "cell_type": "code",
   "execution_count": 33,
   "metadata": {},
   "outputs": [
    {
     "data": {
      "text/plain": [
       "<matplotlib.legend.Legend at 0x7f8aa60b0820>"
      ]
     },
     "execution_count": 33,
     "metadata": {},
     "output_type": "execute_result"
    },
    {
     "data": {
      "image/png": "[encoded data removed]",
      "text/plain": [
       "<Figure size 1152x648 with 1 Axes>"
      ]
     },
     "metadata": {
      "needs_background": "light"
     },
     "output_type": "display_data"
    }
   ],
   "source": [
    "x_pred = np.array([-25, 100]).reshape(-1, 1)\n",
    "y_pred = lm.predict(x_pred)\n",
    "\n",
    "plt.figure(figsize=(16, 9))\n",
    "plt.scatter(train.bathroomcnt, train.taxvaluedollarcnt, label='actual')\n",
    "plt.scatter(train.bathroomcnt, lm.predict(train[['bathroomcnt']]), label='simple_lm')\n",
    "plt.plot(x_pred, y_pred, ls='--', c='black', label='linear model prediction line')\n",
    "plt.hlines(0, -25, 100, ls=':', color='grey')\n",
    "plt.vlines(0, -10, 100, ls=':', color='grey')\n",
    "\n",
    "plt.xlabel('Tax Value')\n",
    "plt.ylabel('bathroomcnt')\n",
    "plt.legend()"
   ]
  },
  {
   "cell_type": "code",
   "execution_count": 34,
   "metadata": {},
   "outputs": [],
   "source": [
    "# repeat the above steps for the other columns\n",
    "# 2. fit the thing\n",
    "lm.fit(X_train3, y_train)\n",
    "# 3. use the thing (make predictions)\n",
    "X_validate = validate[['bedroomcnt']]\n",
    "predictions['simple_lm'] = lm.predict(X_validate)"
   ]
  },
  {
   "cell_type": "code",
   "execution_count": 35,
   "metadata": {},
   "outputs": [
    {
     "data": {
      "text/plain": [
       "(array([209201.24445237]), -168781.115466726)"
      ]
     },
     "execution_count": 35,
     "metadata": {},
     "output_type": "execute_result"
    }
   ],
   "source": [
    "lm.coef_, lm.intercept_"
   ]
  },
  {
   "cell_type": "code",
   "execution_count": 36,
   "metadata": {},
   "outputs": [
    {
     "name": "stdout",
     "output_type": "stream",
     "text": [
      "taxvaluedollarcnt = 209201.244 * bedroomcnt + -168781.115\n"
     ]
    }
   ],
   "source": [
    "print('taxvaluedollarcnt = {:.3f} * bedroomcnt + {:.3f}'.format(lm.coef_[0], lm.intercept_))"
   ]
  },
  {
   "cell_type": "code",
   "execution_count": 37,
   "metadata": {},
   "outputs": [
    {
     "data": {
      "text/plain": [
       "<matplotlib.legend.Legend at 0x7f8aa58c1a30>"
      ]
     },
     "execution_count": 37,
     "metadata": {},
     "output_type": "execute_result"
    },
    {
     "data": {
      "image/png": "[encoded data removed]",
      "text/plain": [
       "<Figure size 1152x648 with 1 Axes>"
      ]
     },
     "metadata": {
      "needs_background": "light"
     },
     "output_type": "display_data"
    }
   ],
   "source": [
    "x_pred = np.array([-25, 100]).reshape(-1, 1)\n",
    "y_pred = lm.predict(x_pred)\n",
    "\n",
    "plt.figure(figsize=(16, 9))\n",
    "plt.scatter(train.bedroomcnt, train.taxvaluedollarcnt, label='actual')\n",
    "plt.scatter(train.bedroomcnt, lm.predict(train[['bedroomcnt']]), label='simple_lm')\n",
    "plt.plot(x_pred, y_pred, ls='--', c='black', label='linear model prediction line')\n",
    "plt.hlines(0, -25, 100, ls=':', color='grey')\n",
    "plt.vlines(0, -10, 100, ls=':', color='grey')\n",
    "\n",
    "plt.xlabel('Tax Value')\n",
    "plt.ylabel('bathroomcnt')\n",
    "plt.legend()"
   ]
  },
  {
   "cell_type": "code",
   "execution_count": null,
   "metadata": {},
   "outputs": [],
   "source": []
  }
 ],
 "metadata": {
  "interpreter": {
   "hash": "3067ead486e059ec00ffe7555bdb889e6e264a24dc711bf108106cc7baee8d5d"
  },
  "kernelspec": {
   "display_name": "Python 3.9.7 ('base')",
   "language": "python",
   "name": "python3"
  },
  "language_info": {
   "codemirror_mode": {
    "name": "ipython",
    "version": 3
   },
   "file_extension": ".py",
   "mimetype": "text/x-python",
   "name": "python",
   "nbconvert_exporter": "python",
   "pygments_lexer": "ipython3",
   "version": "3.9.7"
  },
  "orig_nbformat": 4
 },
 "nbformat": 4,
 "nbformat_minor": 2
}
