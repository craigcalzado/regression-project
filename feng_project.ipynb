{
 "cells": [
  {
   "cell_type": "code",
   "execution_count": 1,
   "metadata": {},
   "outputs": [],
   "source": [
    "import numpy as np\n",
    "import pandas as pd\n",
    "from sklearn.feature_selection import SelectKBest, RFE, f_regression, SequentialFeatureSelector\n",
    "import wrangle\n",
    "import f_engineer"
   ]
  },
  {
   "cell_type": "code",
   "execution_count": 2,
   "metadata": {},
   "outputs": [
    {
     "name": "stdout",
     "output_type": "stream",
     "text": [
      "Let me get that for you...\n"
     ]
    }
   ],
   "source": [
    "# acquire the data\n",
    "df = wrangle.get_zillow_project_data()"
   ]
  },
  {
   "cell_type": "code",
   "execution_count": 3,
   "metadata": {},
   "outputs": [
    {
     "data": {
      "text/html": [
       "<div>\n",
       "<style scoped>\n",
       "    .dataframe tbody tr th:only-of-type {\n",
       "        vertical-align: middle;\n",
       "    }\n",
       "\n",
       "    .dataframe tbody tr th {\n",
       "        vertical-align: top;\n",
       "    }\n",
       "\n",
       "    .dataframe thead th {\n",
       "        text-align: right;\n",
       "    }\n",
       "</style>\n",
       "<table border=\"1\" class=\"dataframe\">\n",
       "  <thead>\n",
       "    <tr style=\"text-align: right;\">\n",
       "      <th></th>\n",
       "      <th>bathroomcnt</th>\n",
       "      <th>bedroomcnt</th>\n",
       "      <th>finishedsquarefeet12</th>\n",
       "      <th>fips</th>\n",
       "      <th>garagecarcnt</th>\n",
       "      <th>lotsizesquarefeet</th>\n",
       "      <th>yearbuilt</th>\n",
       "      <th>taxvaluedollarcnt</th>\n",
       "      <th>assessmentyear</th>\n",
       "      <th>logerror</th>\n",
       "      <th>transactiondate</th>\n",
       "    </tr>\n",
       "  </thead>\n",
       "  <tbody>\n",
       "    <tr>\n",
       "      <th>0</th>\n",
       "      <td>3.0</td>\n",
       "      <td>4.0</td>\n",
       "      <td>2504.0</td>\n",
       "      <td>6037.0</td>\n",
       "      <td>0</td>\n",
       "      <td>6009.0</td>\n",
       "      <td>1979.0</td>\n",
       "      <td>262584.0</td>\n",
       "      <td>2016.0</td>\n",
       "      <td>0.015371</td>\n",
       "      <td>2017-01-10</td>\n",
       "    </tr>\n",
       "    <tr>\n",
       "      <th>1</th>\n",
       "      <td>3.0</td>\n",
       "      <td>4.0</td>\n",
       "      <td>2077.0</td>\n",
       "      <td>6037.0</td>\n",
       "      <td>0</td>\n",
       "      <td>11421.0</td>\n",
       "      <td>1979.0</td>\n",
       "      <td>950681.0</td>\n",
       "      <td>2016.0</td>\n",
       "      <td>-0.020910</td>\n",
       "      <td>2017-01-10</td>\n",
       "    </tr>\n",
       "    <tr>\n",
       "      <th>2</th>\n",
       "      <td>2.0</td>\n",
       "      <td>4.0</td>\n",
       "      <td>1722.0</td>\n",
       "      <td>6037.0</td>\n",
       "      <td>0</td>\n",
       "      <td>5410.0</td>\n",
       "      <td>1909.0</td>\n",
       "      <td>207351.0</td>\n",
       "      <td>2016.0</td>\n",
       "      <td>0.043068</td>\n",
       "      <td>2017-01-10</td>\n",
       "    </tr>\n",
       "    <tr>\n",
       "      <th>3</th>\n",
       "      <td>2.0</td>\n",
       "      <td>3.0</td>\n",
       "      <td>1242.0</td>\n",
       "      <td>6037.0</td>\n",
       "      <td>0</td>\n",
       "      <td>8328.0</td>\n",
       "      <td>1962.0</td>\n",
       "      <td>125553.0</td>\n",
       "      <td>2016.0</td>\n",
       "      <td>0.005903</td>\n",
       "      <td>2017-01-10</td>\n",
       "    </tr>\n",
       "    <tr>\n",
       "      <th>4</th>\n",
       "      <td>2.0</td>\n",
       "      <td>5.0</td>\n",
       "      <td>2359.0</td>\n",
       "      <td>6037.0</td>\n",
       "      <td>0</td>\n",
       "      <td>4844.0</td>\n",
       "      <td>1966.0</td>\n",
       "      <td>708879.0</td>\n",
       "      <td>2016.0</td>\n",
       "      <td>-0.056877</td>\n",
       "      <td>2017-01-10</td>\n",
       "    </tr>\n",
       "  </tbody>\n",
       "</table>\n",
       "</div>"
      ],
      "text/plain": [
       "   bathroomcnt  bedroomcnt  finishedsquarefeet12    fips  garagecarcnt  \\\n",
       "0          3.0         4.0                2504.0  6037.0             0   \n",
       "1          3.0         4.0                2077.0  6037.0             0   \n",
       "2          2.0         4.0                1722.0  6037.0             0   \n",
       "3          2.0         3.0                1242.0  6037.0             0   \n",
       "4          2.0         5.0                2359.0  6037.0             0   \n",
       "\n",
       "   lotsizesquarefeet  yearbuilt  taxvaluedollarcnt  assessmentyear  logerror  \\\n",
       "0             6009.0     1979.0           262584.0          2016.0  0.015371   \n",
       "1            11421.0     1979.0           950681.0          2016.0 -0.020910   \n",
       "2             5410.0     1909.0           207351.0          2016.0  0.043068   \n",
       "3             8328.0     1962.0           125553.0          2016.0  0.005903   \n",
       "4             4844.0     1966.0           708879.0          2016.0 -0.056877   \n",
       "\n",
       "  transactiondate  \n",
       "0      2017-01-10  \n",
       "1      2017-01-10  \n",
       "2      2017-01-10  \n",
       "3      2017-01-10  \n",
       "4      2017-01-10  "
      ]
     },
     "execution_count": 3,
     "metadata": {},
     "output_type": "execute_result"
    }
   ],
   "source": [
    "df = wrangle.zillow_proj_prep(df)\n",
    "# create a new dataframe with only longitude and latitude columns\n",
    "location_data = df.loc[:, ['longitude', 'latitude']]\n",
    "# drop longitude and latitude columns from original dataframe\n",
    "df.drop(columns=['longitude', 'latitude'], inplace=True)\n",
    "df.head()"
   ]
  },
  {
   "cell_type": "code",
   "execution_count": 4,
   "metadata": {},
   "outputs": [
    {
     "name": "stdout",
     "output_type": "stream",
     "text": [
      "(29026, 11)\n",
      "(12441, 11)\n",
      "(10367, 11)\n"
     ]
    }
   ],
   "source": [
    "# split the dataframe into train, validate, and test\n",
    "train, validate, test = wrangle.split_dataframe(df)\n",
    "print(train.shape)\n",
    "print(validate.shape)\n",
    "print(test.shape)"
   ]
  },
  {
   "cell_type": "code",
   "execution_count": 5,
   "metadata": {},
   "outputs": [],
   "source": [
    "# create a subset of the dataframe with only the columns that we want to use for our analysis\n",
    "train_subset = train.loc[:, ['bathroomcnt', 'bedroomcnt', 'finishedsquarefeet12', 'garagecarcnt', 'lotsizesquarefeet']]"
   ]
  },
  {
   "cell_type": "code",
   "execution_count": 6,
   "metadata": {},
   "outputs": [],
   "source": [
    "df = f_engineer.scale_minmax(train_subset) # scale the data"
   ]
  },
  {
   "cell_type": "code",
   "execution_count": 7,
   "metadata": {},
   "outputs": [
    {
     "data": {
      "text/html": [
       "<div>\n",
       "<style scoped>\n",
       "    .dataframe tbody tr th:only-of-type {\n",
       "        vertical-align: middle;\n",
       "    }\n",
       "\n",
       "    .dataframe tbody tr th {\n",
       "        vertical-align: top;\n",
       "    }\n",
       "\n",
       "    .dataframe thead th {\n",
       "        text-align: right;\n",
       "    }\n",
       "</style>\n",
       "<table border=\"1\" class=\"dataframe\">\n",
       "  <thead>\n",
       "    <tr style=\"text-align: right;\">\n",
       "      <th></th>\n",
       "      <th>bathroomcnt</th>\n",
       "      <th>bedroomcnt</th>\n",
       "      <th>finishedsquarefeet12</th>\n",
       "      <th>fips</th>\n",
       "      <th>garagecarcnt</th>\n",
       "      <th>lotsizesquarefeet</th>\n",
       "      <th>yearbuilt</th>\n",
       "      <th>taxvaluedollarcnt</th>\n",
       "      <th>assessmentyear</th>\n",
       "      <th>logerror</th>\n",
       "      <th>transactiondate</th>\n",
       "    </tr>\n",
       "  </thead>\n",
       "  <tbody>\n",
       "    <tr>\n",
       "      <th>48363</th>\n",
       "      <td>2.0</td>\n",
       "      <td>2.0</td>\n",
       "      <td>1370.0</td>\n",
       "      <td>6037.0</td>\n",
       "      <td>0</td>\n",
       "      <td>7092.0</td>\n",
       "      <td>1951.0</td>\n",
       "      <td>529490.0</td>\n",
       "      <td>2016.0</td>\n",
       "      <td>0.030738</td>\n",
       "      <td>2017-08-25</td>\n",
       "    </tr>\n",
       "    <tr>\n",
       "      <th>9545</th>\n",
       "      <td>2.0</td>\n",
       "      <td>3.0</td>\n",
       "      <td>2096.0</td>\n",
       "      <td>6037.0</td>\n",
       "      <td>0</td>\n",
       "      <td>40908.0</td>\n",
       "      <td>1965.0</td>\n",
       "      <td>705000.0</td>\n",
       "      <td>2016.0</td>\n",
       "      <td>0.030276</td>\n",
       "      <td>2017-03-07</td>\n",
       "    </tr>\n",
       "    <tr>\n",
       "      <th>6489</th>\n",
       "      <td>3.0</td>\n",
       "      <td>2.0</td>\n",
       "      <td>1809.0</td>\n",
       "      <td>6037.0</td>\n",
       "      <td>0</td>\n",
       "      <td>7987.0</td>\n",
       "      <td>1955.0</td>\n",
       "      <td>335130.0</td>\n",
       "      <td>2016.0</td>\n",
       "      <td>-0.046420</td>\n",
       "      <td>2017-02-07</td>\n",
       "    </tr>\n",
       "    <tr>\n",
       "      <th>8697</th>\n",
       "      <td>5.0</td>\n",
       "      <td>6.0</td>\n",
       "      <td>3906.0</td>\n",
       "      <td>6037.0</td>\n",
       "      <td>0</td>\n",
       "      <td>16495.0</td>\n",
       "      <td>1954.0</td>\n",
       "      <td>1387000.0</td>\n",
       "      <td>2016.0</td>\n",
       "      <td>0.059611</td>\n",
       "      <td>2017-02-17</td>\n",
       "    </tr>\n",
       "    <tr>\n",
       "      <th>5280</th>\n",
       "      <td>2.0</td>\n",
       "      <td>3.0</td>\n",
       "      <td>1154.0</td>\n",
       "      <td>6059.0</td>\n",
       "      <td>1</td>\n",
       "      <td>3214.0</td>\n",
       "      <td>1976.0</td>\n",
       "      <td>238113.0</td>\n",
       "      <td>2016.0</td>\n",
       "      <td>-0.006345</td>\n",
       "      <td>2017-02-15</td>\n",
       "    </tr>\n",
       "  </tbody>\n",
       "</table>\n",
       "</div>"
      ],
      "text/plain": [
       "       bathroomcnt  bedroomcnt  finishedsquarefeet12    fips  garagecarcnt  \\\n",
       "48363          2.0         2.0                1370.0  6037.0             0   \n",
       "9545           2.0         3.0                2096.0  6037.0             0   \n",
       "6489           3.0         2.0                1809.0  6037.0             0   \n",
       "8697           5.0         6.0                3906.0  6037.0             0   \n",
       "5280           2.0         3.0                1154.0  6059.0             1   \n",
       "\n",
       "       lotsizesquarefeet  yearbuilt  taxvaluedollarcnt  assessmentyear  \\\n",
       "48363             7092.0     1951.0           529490.0          2016.0   \n",
       "9545             40908.0     1965.0           705000.0          2016.0   \n",
       "6489              7987.0     1955.0           335130.0          2016.0   \n",
       "8697             16495.0     1954.0          1387000.0          2016.0   \n",
       "5280              3214.0     1976.0           238113.0          2016.0   \n",
       "\n",
       "       logerror transactiondate  \n",
       "48363  0.030738      2017-08-25  \n",
       "9545   0.030276      2017-03-07  \n",
       "6489  -0.046420      2017-02-07  \n",
       "8697   0.059611      2017-02-17  \n",
       "5280  -0.006345      2017-02-15  "
      ]
     },
     "execution_count": 7,
     "metadata": {},
     "output_type": "execute_result"
    }
   ],
   "source": [
    "train.head()"
   ]
  },
  {
   "cell_type": "code",
   "execution_count": 8,
   "metadata": {},
   "outputs": [],
   "source": [
    "# create a new dataframe with only the columns we want to use for our analysis\n",
    "X_train = train_subset\n",
    "y_train = train.taxvaluedollarcnt"
   ]
  },
  {
   "cell_type": "code",
   "execution_count": 9,
   "metadata": {},
   "outputs": [
    {
     "data": {
      "text/plain": [
       "SelectKBest(k=2, score_func=<function f_regression at 0x7fe680b9d430>)"
      ]
     },
     "execution_count": 9,
     "metadata": {},
     "output_type": "execute_result"
    }
   ],
   "source": [
    "# Like our other sklearn objects...looks at each feature in isolation against the target based on correlation\n",
    "kbest = SelectKBest(f_regression, k=2)\n",
    "kbest.fit(X_train, y_train)"
   ]
  },
  {
   "cell_type": "code",
   "execution_count": 10,
   "metadata": {},
   "outputs": [
    {
     "data": {
      "text/html": [
       "<div>\n",
       "<style scoped>\n",
       "    .dataframe tbody tr th:only-of-type {\n",
       "        vertical-align: middle;\n",
       "    }\n",
       "\n",
       "    .dataframe tbody tr th {\n",
       "        vertical-align: top;\n",
       "    }\n",
       "\n",
       "    .dataframe thead th {\n",
       "        text-align: right;\n",
       "    }\n",
       "</style>\n",
       "<table border=\"1\" class=\"dataframe\">\n",
       "  <thead>\n",
       "    <tr style=\"text-align: right;\">\n",
       "      <th></th>\n",
       "      <th>p</th>\n",
       "      <th>f</th>\n",
       "    </tr>\n",
       "  </thead>\n",
       "  <tbody>\n",
       "    <tr>\n",
       "      <th>bathroomcnt</th>\n",
       "      <td>0.000000e+00</td>\n",
       "      <td>11604.673078</td>\n",
       "    </tr>\n",
       "    <tr>\n",
       "      <th>bedroomcnt</th>\n",
       "      <td>0.000000e+00</td>\n",
       "      <td>2462.500517</td>\n",
       "    </tr>\n",
       "    <tr>\n",
       "      <th>finishedsquarefeet12</th>\n",
       "      <td>0.000000e+00</td>\n",
       "      <td>18490.547467</td>\n",
       "    </tr>\n",
       "    <tr>\n",
       "      <th>garagecarcnt</th>\n",
       "      <td>4.561413e-24</td>\n",
       "      <td>102.571960</td>\n",
       "    </tr>\n",
       "    <tr>\n",
       "      <th>lotsizesquarefeet</th>\n",
       "      <td>1.104743e-04</td>\n",
       "      <td>14.952806</td>\n",
       "    </tr>\n",
       "  </tbody>\n",
       "</table>\n",
       "</div>"
      ],
      "text/plain": [
       "                                 p             f\n",
       "bathroomcnt           0.000000e+00  11604.673078\n",
       "bedroomcnt            0.000000e+00   2462.500517\n",
       "finishedsquarefeet12  0.000000e+00  18490.547467\n",
       "garagecarcnt          4.561413e-24    102.571960\n",
       "lotsizesquarefeet     1.104743e-04     14.952806"
      ]
     },
     "execution_count": 10,
     "metadata": {},
     "output_type": "execute_result"
    }
   ],
   "source": [
    "kbest_results = pd.DataFrame(dict(p=kbest.pvalues_, f=kbest.scores_), index=X_train.columns)\n",
    "kbest_results"
   ]
  },
  {
   "cell_type": "code",
   "execution_count": 11,
   "metadata": {},
   "outputs": [
    {
     "data": {
      "text/plain": [
       "Index(['bathroomcnt', 'finishedsquarefeet12'], dtype='object')"
      ]
     },
     "execution_count": 11,
     "metadata": {},
     "output_type": "execute_result"
    }
   ],
   "source": [
    "X_train.columns[kbest.get_support()]"
   ]
  },
  {
   "cell_type": "code",
   "execution_count": 12,
   "metadata": {},
   "outputs": [],
   "source": [
    "from sklearn.linear_model import LinearRegression"
   ]
  },
  {
   "cell_type": "code",
   "execution_count": 18,
   "metadata": {},
   "outputs": [
    {
     "data": {
      "text/plain": [
       "RFE(estimator=LinearRegression(), n_features_to_select=2)"
      ]
     },
     "execution_count": 18,
     "metadata": {},
     "output_type": "execute_result"
    }
   ],
   "source": [
    "# Progressively eliminate features based on importance to the model\n",
    "model = LinearRegression()\n",
    "rfe = RFE(model, n_features_to_select=2)\n",
    "rfe.fit(X_train, y_train)"
   ]
  },
  {
   "cell_type": "code",
   "execution_count": 14,
   "metadata": {},
   "outputs": [
    {
     "data": {
      "text/html": [
       "<div>\n",
       "<style scoped>\n",
       "    .dataframe tbody tr th:only-of-type {\n",
       "        vertical-align: middle;\n",
       "    }\n",
       "\n",
       "    .dataframe tbody tr th {\n",
       "        vertical-align: top;\n",
       "    }\n",
       "\n",
       "    .dataframe thead th {\n",
       "        text-align: right;\n",
       "    }\n",
       "</style>\n",
       "<table border=\"1\" class=\"dataframe\">\n",
       "  <thead>\n",
       "    <tr style=\"text-align: right;\">\n",
       "      <th></th>\n",
       "      <th>rfe_ranking</th>\n",
       "    </tr>\n",
       "  </thead>\n",
       "  <tbody>\n",
       "    <tr>\n",
       "      <th>bathroomcnt</th>\n",
       "      <td>1</td>\n",
       "    </tr>\n",
       "    <tr>\n",
       "      <th>bedroomcnt</th>\n",
       "      <td>1</td>\n",
       "    </tr>\n",
       "    <tr>\n",
       "      <th>finishedsquarefeet12</th>\n",
       "      <td>3</td>\n",
       "    </tr>\n",
       "    <tr>\n",
       "      <th>garagecarcnt</th>\n",
       "      <td>2</td>\n",
       "    </tr>\n",
       "    <tr>\n",
       "      <th>lotsizesquarefeet</th>\n",
       "      <td>4</td>\n",
       "    </tr>\n",
       "  </tbody>\n",
       "</table>\n",
       "</div>"
      ],
      "text/plain": [
       "                      rfe_ranking\n",
       "bathroomcnt                     1\n",
       "bedroomcnt                      1\n",
       "finishedsquarefeet12            3\n",
       "garagecarcnt                    2\n",
       "lotsizesquarefeet               4"
      ]
     },
     "execution_count": 14,
     "metadata": {},
     "output_type": "execute_result"
    }
   ],
   "source": [
    "pd.DataFrame({'rfe_ranking': rfe.ranking_}, index=X_train.columns)"
   ]
  },
  {
   "cell_type": "code",
   "execution_count": 15,
   "metadata": {},
   "outputs": [
    {
     "data": {
      "text/plain": [
       "Index(['bathroomcnt', 'bedroomcnt'], dtype='object')"
      ]
     },
     "execution_count": 15,
     "metadata": {},
     "output_type": "execute_result"
    }
   ],
   "source": [
    "X_train.columns[rfe.get_support()]"
   ]
  },
  {
   "cell_type": "code",
   "execution_count": 16,
   "metadata": {},
   "outputs": [
    {
     "data": {
      "text/plain": [
       "SequentialFeatureSelector(direction='backward', estimator=LinearRegression(),\n",
       "                          n_features_to_select=2,\n",
       "                          scoring='neg_mean_absolute_error')"
      ]
     },
     "execution_count": 16,
     "metadata": {},
     "output_type": "execute_result"
    }
   ],
   "source": [
    "# progressively adds features based on cross validated model performance\n",
    "model = LinearRegression()\n",
    "sfs = SequentialFeatureSelector(model, n_features_to_select=2, scoring='neg_mean_absolute_error', direction='backward')\n",
    "sfs.fit(X_train, y_train)"
   ]
  },
  {
   "cell_type": "code",
   "execution_count": 17,
   "metadata": {},
   "outputs": [
    {
     "data": {
      "text/html": [
       "<div>\n",
       "<style scoped>\n",
       "    .dataframe tbody tr th:only-of-type {\n",
       "        vertical-align: middle;\n",
       "    }\n",
       "\n",
       "    .dataframe tbody tr th {\n",
       "        vertical-align: top;\n",
       "    }\n",
       "\n",
       "    .dataframe thead th {\n",
       "        text-align: right;\n",
       "    }\n",
       "</style>\n",
       "<table border=\"1\" class=\"dataframe\">\n",
       "  <thead>\n",
       "    <tr style=\"text-align: right;\">\n",
       "      <th></th>\n",
       "      <th>bedroomcnt</th>\n",
       "      <th>finishedsquarefeet12</th>\n",
       "    </tr>\n",
       "  </thead>\n",
       "  <tbody>\n",
       "    <tr>\n",
       "      <th>48363</th>\n",
       "      <td>2.0</td>\n",
       "      <td>1370.0</td>\n",
       "    </tr>\n",
       "    <tr>\n",
       "      <th>9545</th>\n",
       "      <td>3.0</td>\n",
       "      <td>2096.0</td>\n",
       "    </tr>\n",
       "    <tr>\n",
       "      <th>6489</th>\n",
       "      <td>2.0</td>\n",
       "      <td>1809.0</td>\n",
       "    </tr>\n",
       "    <tr>\n",
       "      <th>8697</th>\n",
       "      <td>6.0</td>\n",
       "      <td>3906.0</td>\n",
       "    </tr>\n",
       "    <tr>\n",
       "      <th>5280</th>\n",
       "      <td>3.0</td>\n",
       "      <td>1154.0</td>\n",
       "    </tr>\n",
       "  </tbody>\n",
       "</table>\n",
       "</div>"
      ],
      "text/plain": [
       "       bedroomcnt  finishedsquarefeet12\n",
       "48363         2.0                1370.0\n",
       "9545          3.0                2096.0\n",
       "6489          2.0                1809.0\n",
       "8697          6.0                3906.0\n",
       "5280          3.0                1154.0"
      ]
     },
     "execution_count": 17,
     "metadata": {},
     "output_type": "execute_result"
    }
   ],
   "source": [
    "X_train_transformed = pd.DataFrame(\n",
    "    sfs.transform(X_train),\n",
    "    index=X_train.index,\n",
    "    columns=X_train.columns[sfs.support_]\n",
    ")\n",
    "X_train_transformed.head()"
   ]
  },
  {
   "cell_type": "code",
   "execution_count": null,
   "metadata": {},
   "outputs": [],
   "source": []
  }
 ],
 "metadata": {
  "interpreter": {
   "hash": "3067ead486e059ec00ffe7555bdb889e6e264a24dc711bf108106cc7baee8d5d"
  },
  "kernelspec": {
   "display_name": "Python 3.9.7 ('base')",
   "language": "python",
   "name": "python3"
  },
  "language_info": {
   "codemirror_mode": {
    "name": "ipython",
    "version": 3
   },
   "file_extension": ".py",
   "mimetype": "text/x-python",
   "name": "python",
   "nbconvert_exporter": "python",
   "pygments_lexer": "ipython3",
   "version": "3.9.7"
  },
  "orig_nbformat": 4
 },
 "nbformat": 4,
 "nbformat_minor": 2
}
